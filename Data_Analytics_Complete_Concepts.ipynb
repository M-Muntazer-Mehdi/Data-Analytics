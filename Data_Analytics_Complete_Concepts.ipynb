{
 "cells": [
  {
   "cell_type": "code",
   "execution_count": 1,
   "id": "36cabf2e",
   "metadata": {},
   "outputs": [],
   "source": [
    "#Python Basic commands"
   ]
  },
  {
   "cell_type": "code",
   "execution_count": 2,
   "id": "fa7c7d25",
   "metadata": {},
   "outputs": [
    {
     "name": "stdout",
     "output_type": "stream",
     "text": [
      "Integers:\n",
      "addition:  30\n",
      "exponential:  100000000000000000000 \n",
      "\n",
      "Float & boolean:\n",
      "Greater:  True \n",
      "\n",
      "String: \n",
      "My name is  Muntazer mehdi\n",
      "First character:  M\n",
      "First character:  i\n"
     ]
    }
   ],
   "source": [
    "#Data types\n",
    "print(\"Integers:\")\n",
    "x = 10\n",
    "y = 20\n",
    "addition = x + y\n",
    "exponential = x ** y\n",
    "print(\"addition: \", addition)\n",
    "print(\"exponential: \", exponential, \"\\n\")\n",
    "\n",
    "print(\"Float & boolean:\")\n",
    "a = 1.0\n",
    "b = 1.5\n",
    "if a > b:\n",
    "    is_greater = False\n",
    "else:\n",
    "    is_greater = True\n",
    "print(\"Greater: \", is_greater, \"\\n\")\n",
    "\n",
    "print(\"String: \")\n",
    "first = \"Muntazer\"\n",
    "second = \"mehdi\"\n",
    "name = first + \" \" + second\n",
    "print(\"My name is \", name)\n",
    "print(\"First character: \", name[0])\n",
    "print(\"First character: \", name[13])"
   ]
  },
  {
   "cell_type": "code",
   "execution_count": 3,
   "id": "68654c13",
   "metadata": {},
   "outputs": [
    {
     "name": "stdout",
     "output_type": "stream",
     "text": [
      "Integer conversion: \n",
      "Convert float to integer:  1\n",
      "Convert string to integer:  12\n",
      "Type of values:  <class 'int'>\n",
      "\n",
      "String conversion: \n",
      "Convert float to string:  1.0\n",
      "Convert integer to string:  12\n",
      "Type of values:  <class 'str'>\n",
      "\n",
      "Float conversion: \n",
      "Convert string to float:  1.0\n",
      "Convert integer to float:  12.0\n",
      "Type of values:  <class 'float'>\n",
      "\n",
      "boolean conversion: \n",
      "Convert string to boolean:  False\n",
      "Convert string to boolean:  True\n",
      "Type of values:  <class 'bool'>\n"
     ]
    }
   ],
   "source": [
    "#Type conversion\n",
    "print(\"Integer conversion: \")\n",
    "float_x = 1.0\n",
    "string_x = \"12\"\n",
    "print(\"Convert float to integer: \" , int(float_x))\n",
    "print(\"Convert string to integer: \" , int(string_x))\n",
    "print(\"Type of values: \", type(int(float_x)))\n",
    "\n",
    "print(\"\\nString conversion: \")\n",
    "float_y = 1.0\n",
    "int_y = 12\n",
    "print(\"Convert float to string: \" , str(float_y))\n",
    "print(\"Convert integer to string: \" , str(int_y))\n",
    "print(\"Type of values: \", type(str(float_y)))\n",
    "\n",
    "print(\"\\nFloat conversion: \")\n",
    "string_z = \"1\"\n",
    "int_z = 12\n",
    "print(\"Convert string to float: \" , float(string_z))\n",
    "print(\"Convert integer to float: \" , float(int_z))\n",
    "print(\"Type of values: \", type(float(string_z)))\n",
    "\n",
    "print(\"\\nboolean conversion: \")\n",
    "string_z_1 = \"\"\n",
    "string_z_2= \"non empty\"\n",
    "print(\"Convert string to boolean: \" , bool(string_z_1))\n",
    "print(\"Convert string to boolean: \" , bool(string_z_2))\n",
    "print(\"Type of values: \", type(bool(string_z_2)))"
   ]
  },
  {
   "cell_type": "code",
   "execution_count": 4,
   "id": "c92be292",
   "metadata": {},
   "outputs": [
    {
     "name": "stdout",
     "output_type": "stream",
     "text": [
      "Comparison Operators: \n",
      "equal:  False\n",
      "not equal:  True\n",
      "greater equal:  False\n",
      "less equal:  True\n",
      "chaining:  True\n",
      "\n",
      "Logical Operators: \n",
      "if both condition true then And operator\n",
      "if one condition true from above two condition then or operator\n",
      "Not operator:  False\n",
      "\n",
      "Assignment Operators: \n",
      "+=:  20\n",
      "-=:  6\n",
      "*=:  100\n",
      "/=:  5.0\n",
      "%=:  0\n"
     ]
    }
   ],
   "source": [
    "#operators\n",
    "print(\"Comparison Operators: \")\n",
    "x = 10\n",
    "y = 20\n",
    "equal = x == y\n",
    "not_equal = x != y\n",
    "greater_equal = x >= y \n",
    "less_equal = x <= y\n",
    "chaining = x < y and y > x\n",
    "print(\"equal: \", equal)\n",
    "print(\"not equal: \", not_equal)\n",
    "print(\"greater equal: \", greater_equal)\n",
    "print(\"less equal: \", less_equal)\n",
    "print(\"chaining: \", chaining)\n",
    "\n",
    "print(\"\\nLogical Operators: \")\n",
    "x = 10\n",
    "y = 20\n",
    "z = 10\n",
    "if x < y and x == z:\n",
    "    print(\"if both condition true then And operator\")\n",
    "if x > y or x == z:\n",
    "    print(\"if one condition true from above two condition then or operator\")\n",
    "result = not x\n",
    "print(\"Not operator: \", result)\n",
    "\n",
    "print(\"\\nAssignment Operators: \")\n",
    "x_1 = 10\n",
    "x_1+=10\n",
    "print(\"+=: \", x_1)\n",
    "x_2 = 10\n",
    "x_2-=4\n",
    "print(\"-=: \", x_2)\n",
    "x_3 = 10\n",
    "x_3*=10\n",
    "print(\"*=: \", x_3)\n",
    "x_4 = 10\n",
    "x_4/=2\n",
    "print(\"/=: \", x_4)\n",
    "x_5 = 10\n",
    "x_5%=2\n",
    "print(\"%=: \", x_5)"
   ]
  },
  {
   "cell_type": "code",
   "execution_count": 5,
   "id": "91b46056",
   "metadata": {},
   "outputs": [
    {
     "name": "stdout",
     "output_type": "stream",
     "text": [
      "For loops: \n",
      "sum 650\n",
      "\n",
      "range in loops: \n",
      "list_of_odd: [1, 3, 5, 7, 9]\n",
      "\n",
      "While loops: \n",
      "Total Years:  15\n"
     ]
    }
   ],
   "source": [
    "#loops\n",
    "print(\"For loops: \")\n",
    "sum = 0\n",
    "for i in range(1, 51):\n",
    "    if i % 2 == 0:\n",
    "        sum += i\n",
    "print(\"sum\", sum)\n",
    "print(\"\\nrange in loops: \")\n",
    "list_of_odd = list(range(1,11,2))\n",
    "print(\"list_of_odd:\", list_of_odd)\n",
    "\n",
    "print(\"\\nWhile loops: \")\n",
    "year = 0;\n",
    "initial_deposit = 1000\n",
    "annual_interest_rate = 0.05\n",
    "target_amount = 2000\n",
    "while initial_deposit < target_amount:\n",
    "    year += 1\n",
    "    new_balance = initial_deposit * (1 + annual_interest_rate)\n",
    "    initial_deposit = new_balance\n",
    "print(\"Total Years: \", year)"
   ]
  },
  {
   "cell_type": "code",
   "execution_count": 6,
   "id": "4d9b0a5f",
   "metadata": {},
   "outputs": [
    {
     "name": "stdout",
     "output_type": "stream",
     "text": [
      "Category-wise Total Sales:\n",
      "Electronics: $6250\n",
      "Accessories: $600\n",
      "Fashion: $100\n",
      "top sales:  Electronics\n"
     ]
    }
   ],
   "source": [
    "#loops Example\n",
    "\n",
    "def analyze_sales_categories(transactions):\n",
    "    products ={}\n",
    "    total_amount_ele = 0\n",
    "    total_amount_acc = 0\n",
    "    total_amount_fas = 0\n",
    "    for transaction in transactions:\n",
    "        category = transaction[\"category\"];\n",
    "        quantity = transaction[\"quantity\"];\n",
    "        amount = transaction[\"total_amount\"];\n",
    "        if category in products:\n",
    "            products[category] += amount\n",
    "        else:\n",
    "            products[category] = amount\n",
    "            \n",
    "    print(\"Category-wise Total Sales:\")\n",
    "    for category, total_sales in products.items():\n",
    "        print(f\"{category}: ${total_sales}\")\n",
    "    \n",
    "    top_sales = max(products, key=products.get)\n",
    "    print(\"top sales: \", top_sales)\n",
    "\n",
    "# Example usage\n",
    "transactions = [\n",
    "    {\"product\": \"Laptop\", \"quantity\": 3, \"total_amount\": 4500, \"category\": \"Electronics\"},\n",
    "    {\"product\": \"Mouse\", \"quantity\": 10, \"total_amount\": 200, \"category\": \"Accessories\"},\n",
    "    {\"product\": \"Keyboard\", \"quantity\": 5, \"total_amount\": 400, \"category\": \"Accessories\"},\n",
    "    {\"product\": \"Monitor\", \"quantity\": 2, \"total_amount\": 1200, \"category\": \"Electronics\"},\n",
    "    {\"product\": \"Headphones\", \"quantity\": 4, \"total_amount\": 300, \"category\": \"Electronics\"},\n",
    "    {\"product\": \"Backpack\", \"quantity\": 2, \"total_amount\": 100, \"category\": \"Fashion\"},\n",
    "    {\"product\": \"Smartwatch\", \"quantity\": 1, \"total_amount\": 250, \"category\": \"Electronics\"},\n",
    "]\n",
    "\n",
    "analyze_sales_categories(transactions)"
   ]
  },
  {
   "cell_type": "code",
   "execution_count": 7,
   "id": "2f71845f",
   "metadata": {},
   "outputs": [
    {
     "name": "stdout",
     "output_type": "stream",
     "text": [
      "Name:\t Quantity:\t Price:\t\t TotalPrice:\t\n",
      "Laptop \t 5 \t\t 40000 \t\t 200000 \t\n",
      "screen \t 5 \t\t 15500 \t\t 77500 \t\n",
      "Mobile \t 18 \t\t 32000 \t\t 576000 \t\n"
     ]
    }
   ],
   "source": [
    "#functions\n",
    "#Inventory System:\n",
    "\n",
    "def calculate_total_cost(name,quantity,price):\n",
    "    totalprice = quantity*price;\n",
    "    print(name, \"\\t\",quantity, \"\\t\\t\", price, \"\\t\\t\", totalprice, \"\\t\");\n",
    "\n",
    "name= [\"Laptop\",\"screen\", \"Mobile\"]\n",
    "quantity= [5,5,18]\n",
    "price= [40000,15500,32000]\n",
    "print(\"Name:\\t\", \"Quantity:\\t\", \"Price:\\t\\t\", \"TotalPrice:\\t\");\n",
    "for i in range(0,3):\n",
    "    calculate_total_cost(name[i],quantity[i],price[i])"
   ]
  },
  {
   "cell_type": "code",
   "execution_count": 8,
   "id": "40df5a4d",
   "metadata": {},
   "outputs": [
    {
     "name": "stdout",
     "output_type": "stream",
     "text": [
      "8 1 11 12 8 17 20 3 27 18 \n",
      "\n",
      "H T H T T T H H H H "
     ]
    }
   ],
   "source": [
    "import random\n",
    "def rand_x(range_x):\n",
    "    for _ in range(range_x):\n",
    "        print(random.randrange(1,30), end=\" \")\n",
    "    print(\"\\n\")\n",
    "    for _ in range(range_x):\n",
    "        print ('T' if random.randrange(2) == 0 else 'H', end = ' ')\n",
    "\n",
    "range_x = 10\n",
    "rand_x(range_x)"
   ]
  },
  {
   "cell_type": "code",
   "execution_count": 9,
   "id": "b7eacd07",
   "metadata": {},
   "outputs": [
    {
     "name": "stdout",
     "output_type": "stream",
     "text": [
      "tuple & function: \n",
      "B in x:  2\n",
      "index: 0: 1\n",
      "index: 1: 2\n",
      "index: 2: 3\n",
      "max:  3\n",
      "min:  1\n",
      "len:  3\n"
     ]
    }
   ],
   "source": [
    "#tuple & function\n",
    "print(\"tuple & function: \")\n",
    "x = (1,2,3)\n",
    "y = (5,6)\n",
    "a, b, c = x\n",
    "print(\"B in x: \", b)\n",
    "for index, i in enumerate(x):\n",
    "    print(f'index: {index}: {i}')\n",
    "print(\"max: \" ,max(x))\n",
    "print(\"min: \" ,min(x))\n",
    "print(\"len: \" ,len(x))"
   ]
  },
  {
   "cell_type": "code",
   "execution_count": 10,
   "id": "4da6e072",
   "metadata": {},
   "outputs": [
    {
     "name": "stdout",
     "output_type": "stream",
     "text": [
      "First element:  1\n",
      "slicing list:  [2, 3, 4]\n",
      "concate list:  [1, 2, 3, 4, 5, 6, 7, 8, 9, 10, 11, 12]\n",
      "modify element:  [1, 2, 999, 4, 5, 6, 7, 8, 9]\n",
      "remove element:  [1, 2, 4, 5, 6, 7, 8, 9]\n",
      "pop element:  [1, 2, 4, 5, 7, 8, 9]\n",
      "insert element:  [1, 2, 999, 4, 5, 7, 8, 9]\n",
      "append element:  [1, 2, 999, 4, 5, 7, 8, 9, 22]\n",
      "extend element:  [1, 2, 999, 4, 5, 7, 8, 9, 22, 23, 24, 25]\n",
      "legnth list:  12\n",
      "sort list:  [1, 2, 4, 5, 7, 8, 9, 22, 23, 24, 25, 999]\n",
      "reverse list:  [999, 25, 24, 23, 22, 9, 8, 7, 5, 4, 2, 1]\n"
     ]
    }
   ],
   "source": [
    "#list operators\n",
    "list1 = [1,2,3,4,5,6,7,8,9]\n",
    "print(\"First element: \", list1[0])\n",
    "sub = list1[1:4]\n",
    "print(\"slicing list: \", sub)\n",
    "concate = list1 + [10,11,12]\n",
    "print(\"concate list: \", concate)\n",
    "list1[2] = 999\n",
    "print(\"modify element: \", list1)\n",
    "list1.remove(999)\n",
    "print(\"remove element: \", list1)\n",
    "list1.pop(4)\n",
    "print(\"pop element: \", list1)\n",
    "list1.insert(2,999)\n",
    "print(\"insert element: \", list1)\n",
    "list1.append(22)\n",
    "print(\"append element: \", list1)\n",
    "list1.extend([23,24,25])\n",
    "print(\"extend element: \", list1)\n",
    "print(\"legnth list: \", len(list1))\n",
    "print(\"sort list: \", list(sorted(list1)))\n",
    "print(\"reverse list: \", list(reversed(sorted(list1))))"
   ]
  },
  {
   "cell_type": "code",
   "execution_count": 11,
   "id": "6fbae212",
   "metadata": {},
   "outputs": [
    {
     "name": "stdout",
     "output_type": "stream",
     "text": [
      "2022 3 \n",
      "\n",
      "3.57 2 \n",
      "\n",
      "Smith 1 \n",
      "\n",
      "Mary 0 \n",
      "\n",
      "Mary 0\n",
      "Smith 1\n",
      "3.57 2\n",
      "2022 3\n"
     ]
    }
   ],
   "source": [
    "student = ['Mary', 'Smith', 3.57, 2022]\n",
    "student\n",
    "\n",
    "\n",
    "#iterating over the lists\n",
    "for i in range (len(student)-1,-1,-1):\n",
    "    print (student[i], i, \"\\n\")\n",
    "\n",
    "reverse = []\n",
    "for index, i in enumerate(student):\n",
    "    reverse.insert(index, i);\n",
    "    print(i, index)\n",
    "\n"
   ]
  },
  {
   "cell_type": "code",
   "execution_count": 12,
   "id": "e1a688ce",
   "metadata": {},
   "outputs": [
    {
     "name": "stdout",
     "output_type": "stream",
     "text": [
      "new list:  [1, 2, 3, 4, 5]\n",
      "cube list:  [1, 8, 27, 64, 125]\n",
      "divide by 2 list:  [8, 64]\n",
      "color caps list:  ['RED', 'ORANGE', 'YELLOW', 'GREEN', 'BLUE']\n",
      "color lower list:  ['red', 'orange', 'yellow', 'green', 'blue']\n",
      "divide by 3 list:  [27]\n"
     ]
    }
   ],
   "source": [
    "\n",
    "#creating new lists\n",
    "new_list = [list for list in range(1,6)]\n",
    "print(\"new list: \", new_list)\n",
    "\n",
    "#mapping the data\n",
    "cube_list = [item **3 for item in new_list]\n",
    "print(\"cube list: \", cube_list)\n",
    "\n",
    "#filtering the data\n",
    "divide_by_two = [item for item in cube_list if item %2 ==0]\n",
    "print(\"divide by 2 list: \", divide_by_two)\n",
    "\n",
    "colors = ['red', 'orange', 'yellow', 'green', 'blue']\n",
    "colors_caps = [color.upper() for color in colors]\n",
    "print(\"color caps list: \", colors_caps)\n",
    "\n",
    "color_lower = [color.lower() for color in colors]\n",
    "print(\"color lower list: \", color_lower)\n",
    "\n",
    "divide_by_3 = [item for item in cube_list if item%3 == 0]\n",
    "print(\"divide by 3 list: \", divide_by_3)"
   ]
  },
  {
   "cell_type": "code",
   "execution_count": 13,
   "id": "41e39ca7",
   "metadata": {},
   "outputs": [
    {
     "name": "stdout",
     "output_type": "stream",
     "text": [
      "Name=Bob; GPA=3.5\n",
      "Name=Sue; GPA=4.0\n",
      "Name=Amanda; GPA=3.75\n"
     ]
    }
   ],
   "source": [
    "#combining iterators\n",
    "\n",
    "students = ['Bob', 'Sue', 'Amanda']\n",
    "cgpa = [3.5, 4.0, 3.75]\n",
    "for name, gpa in zip(students, cgpa):\n",
    "    print(f'Name={name}; GPA={gpa}')"
   ]
  },
  {
   "cell_type": "code",
   "execution_count": 14,
   "id": "eb128e9d",
   "metadata": {},
   "outputs": [
    {
     "name": "stdout",
     "output_type": "stream",
     "text": [
      "\n",
      "Task Management System:\n",
      "1. Add a new task\n",
      "2. Display current tasks\n",
      "3. Mark a task as completed\n",
      "4. Display completed tasks\n",
      "5. Quit\n",
      "Enter choice:1\n",
      "Add Task: chapter 1 to 5\n",
      "\n",
      "Task Management System:\n",
      "1. Add a new task\n",
      "2. Display current tasks\n",
      "3. Mark a task as completed\n",
      "4. Display completed tasks\n",
      "5. Quit\n",
      "Enter choice:1\n",
      "Add Task: chapter 6 to 7\n",
      "\n",
      "Task Management System:\n",
      "1. Add a new task\n",
      "2. Display current tasks\n",
      "3. Mark a task as completed\n",
      "4. Display completed tasks\n",
      "5. Quit\n",
      "Enter choice:2\n",
      "0 . chapter 1 to 5\n",
      "1 . chapter 6 to 7\n",
      "\n",
      "Task Management System:\n",
      "1. Add a new task\n",
      "2. Display current tasks\n",
      "3. Mark a task as completed\n",
      "4. Display completed tasks\n",
      "5. Quit\n",
      "Enter choice:3\n",
      "Current Tasks: \n",
      "\n",
      "0 . chapter 1 to 5\n",
      "1 . chapter 6 to 7\n",
      "If you want to mark the task completed then Enter the task number: \n",
      "Enter the completed task number: 0\n",
      "Task is completed.\n",
      "\n",
      "\n",
      "Task Management System:\n",
      "1. Add a new task\n",
      "2. Display current tasks\n",
      "3. Mark a task as completed\n",
      "4. Display completed tasks\n",
      "5. Quit\n",
      "Enter choice:4\n",
      "0 . chapter 1 to 5\n",
      "\n",
      "Task Management System:\n",
      "1. Add a new task\n",
      "2. Display current tasks\n",
      "3. Mark a task as completed\n",
      "4. Display completed tasks\n",
      "5. Quit\n",
      "Enter choice:5\n"
     ]
    }
   ],
   "source": [
    "def Task_management_system():\n",
    "    new_task = []\n",
    "    completed_task = []\n",
    "    \n",
    "    while True:\n",
    "        print(\"\\nTask Management System:\")\n",
    "        print(\"1. Add a new task\")\n",
    "        print(\"2. Display current tasks\")\n",
    "        print(\"3. Mark a task as completed\")\n",
    "        print(\"4. Display completed tasks\")\n",
    "        print(\"5. Quit\")\n",
    "        \n",
    "        choice = input(\"Enter choice:\" )\n",
    "        \n",
    "        if choice == \"1\":\n",
    "            task = input(\"Add Task: \")\n",
    "            new_task.append(task)\n",
    "        \n",
    "        elif choice == \"2\":\n",
    "            for i, list in enumerate(new_task):\n",
    "                print(i,\".\", list);\n",
    "                \n",
    "        elif choice == \"3\":\n",
    "            print(\"Current Tasks: \\n\")\n",
    "            for i, list in enumerate(new_task):\n",
    "                print(i,\".\", list);\n",
    "            print(\"If you want to mark the task completed then Enter the task number: \")\n",
    "            complete = int(input(\"Enter the completed task number: \"))\n",
    "            complete_task = new_task.pop(complete);\n",
    "            completed_task.append(complete_task);\n",
    "            print(\"Task is completed.\\n\");\n",
    "        \n",
    "        elif choice == \"4\":\n",
    "            for i, list in enumerate(completed_task):\n",
    "                print(i,\".\", list);\n",
    "\n",
    "        elif choice == \"5\":\n",
    "            break;\n",
    "            \n",
    "        else:\n",
    "            print(\"Input is wrong\");\n",
    "    \n",
    "        \n",
    "        \n",
    "\n",
    "Task_management_system();"
   ]
  },
  {
   "cell_type": "code",
   "execution_count": 15,
   "id": "1e9956f8",
   "metadata": {},
   "outputs": [
    {
     "name": "stdout",
     "output_type": "stream",
     "text": [
      "1 2 3 \n",
      "4 5 6 \n",
      "Fives => \n",
      " [[5 5 5 5 5]\n",
      " [5 5 5 5 5]\n",
      " [5 5 5 5 5]\n",
      " [5 5 5 5 5]]\n"
     ]
    }
   ],
   "source": [
    "#numpy\n",
    "import numpy as np\n",
    "\n",
    "list1 = [1,2,3,4,5]\n",
    "arr1 = np.array(list1)\n",
    "arr1\n",
    "\n",
    "arr2_ones = np.ones((2,2))\n",
    "arr2_ones\n",
    "\n",
    "arr3_zeros = np.zeros((2,2))\n",
    "arr3_zeros\n",
    "\n",
    "arr4_empty = np.empty((2,2))\n",
    "arr4_empty\n",
    "\n",
    "arr4_arange = np.arange(10)\n",
    "arr4_arange\n",
    "\n",
    "arr5_linspace = np.linspace(0, 1, 5)\n",
    "arr5_linspace\n",
    "\n",
    "arr6_random = np.random.rand(1,6,1)\n",
    "arr6_random\n",
    "\n",
    "arr4_empty.ndim\n",
    "arr4_empty.size\n",
    "arr4_empty.shape\n",
    "\n",
    "arr_exp = [[1,2,3],[4,5,6]]\n",
    "for i in arr_exp:\n",
    "    for j in i:\n",
    "        print(j, end = \" \")\n",
    "        \n",
    "    print()\n",
    "\n",
    "fives = np.full((4,5), 5)\n",
    "print (\"Fives => \\n\", fives)"
   ]
  },
  {
   "cell_type": "code",
   "execution_count": 16,
   "id": "b9991543",
   "metadata": {},
   "outputs": [
    {
     "name": "stdout",
     "output_type": "stream",
     "text": [
      "[[58 70 79 40 57 51]\n",
      " [67 66 58 82 91 78]\n",
      " [62 46 74 84 48 54]\n",
      " [96 84 80 77 89 48]\n",
      " [96 57 84 72 61 93]\n",
      " [61 52 87 78 97 42]\n",
      " [93 65 60 71 98 54]\n",
      " [99 61 84 62 70 53]\n",
      " [84 42 67 56 95 91]\n",
      " [49 86 77 89 72 92]]\n",
      "[76.5 62.9 75.  71.1 77.8 65.6]\n"
     ]
    },
    {
     "data": {
      "text/plain": [
       "(6, 3)"
      ]
     },
     "execution_count": 16,
     "metadata": {},
     "output_type": "execute_result"
    }
   ],
   "source": [
    "#generate exam marks for 10 students \n",
    "#for 6 courses and perform following tasks\n",
    "exam = np.random.randint(40, 100, 60).reshape(10,6)\n",
    "print(exam)\n",
    "avg_student = exam.mean(axis = 1)\n",
    "avg_course = exam.mean(axis = 0)\n",
    "print(avg_course)\n",
    "#find averge marks student wise and course wise.\n",
    "#find the max marks for each course.\n",
    "#find the max makrs for each student.\n",
    "max_student = exam.max(axis = 1)\n",
    "max_course = exam.max(axis = 0)\n",
    "#find the average of top performing student overall\n",
    "max_avg_student = max(exam.mean(axis = 1))\n",
    "#t1 => select exams marks for alternating students\n",
    "alternating_students = exam[4:, 0:6:2]\n",
    "alternating_students\n",
    "alternating_students.shape\n",
    "#t2 => select marks for alternating courses for 5th student"
   ]
  },
  {
   "cell_type": "code",
   "execution_count": 17,
   "id": "7eb14903",
   "metadata": {},
   "outputs": [
    {
     "name": "stdout",
     "output_type": "stream",
     "text": [
      "array2:  [19 18 17 28 14 26 30 14 24 22 26 27] \n",
      "\n",
      "arr1: \n",
      " [[5 5 5 5 5]\n",
      " [5 5 5 5 5]\n",
      " [5 5 5 5 5]\n",
      " [5 5 5 5 5]] \n",
      "\n",
      "arr2: \n",
      " [[4 4 4 4 4]\n",
      " [4 4 4 4 4]\n",
      " [4 4 4 4 4]\n",
      " [4 4 4 4 4]] \n",
      "\n",
      "arr3: \n",
      " [[20 20 20 20 20]\n",
      " [20 20 20 20 20]\n",
      " [20 20 20 20 20]\n",
      " [20 20 20 20 20]] \n",
      "\n",
      "arr4: \n",
      " [[1, 2, 3], [4, 5, 6], [7, 8, 9]] \n",
      "\n",
      "arr5: \n",
      " 6.66133814775094e-16 \n",
      "\n",
      "arr6: \n",
      " [[-4.50359963e+15  9.00719925e+15 -4.50359963e+15]\n",
      " [ 9.00719925e+15 -1.80143985e+16  9.00719925e+15]\n",
      " [-4.50359963e+15  9.00719925e+15 -4.50359963e+15]] \n",
      "\n",
      "arr7: \n",
      " [[ 1  2  3]\n",
      " [ 4  5 20]\n",
      " [ 7  8  9]] \n",
      "\n",
      "[[56 71 57 71 15]\n",
      " [43 33 69 92 50]\n",
      " [29 21 69 13  2]\n",
      " [49 13 55 41 34]\n",
      " [49 16 56  1 48]\n",
      " [96 48 83 26 30]\n",
      " [70 94 85 73 32]\n",
      " [95 68 82 77 66]\n",
      " [ 2 55  7 48 99]\n",
      " [55 18 49  2 29]]\n",
      "[96 94 85 92 99]\n",
      "48.84\n",
      "27.773627778884055\n"
     ]
    }
   ],
   "source": [
    "#numpy example questions:\n",
    "\n",
    "#question no 1:\n",
    "list = [random.randint(1,30) for _ in range(15)]\n",
    "array = np.array(list)\n",
    "array2 = array[array > 10]\n",
    "print(\"array2: \",array2, \"\\n\")\n",
    "\n",
    "#Question no 2:\n",
    "arr1 = np.full((4,5),5)\n",
    "arr2 = np.full((4,5),4)\n",
    "arr3 = arr1 * arr2\n",
    "print(\"arr1: \\n\",arr1, \"\\n\")\n",
    "print(\"arr2: \\n\",arr2, \"\\n\")\n",
    "print(\"arr3: \\n\",arr3, \"\\n\")\n",
    "\n",
    "#Question no 3:\n",
    "arr4 = [[1,2,3],\n",
    "        [4,5,6],\n",
    "        [7,8,9]]\n",
    "arr5 = np.linalg.det(arr4)\n",
    "arr6 = np.linalg.inv(arr4)\n",
    "print(\"arr4: \\n\",arr4, \"\\n\")\n",
    "print(\"arr5: \\n\",arr5, \"\\n\")\n",
    "print(\"arr6: \\n\",arr6, \"\\n\")\n",
    "\n",
    "#Question no 3\n",
    "arr7 = np.array([[1, 2, 3],\n",
    "                 [4, 5, 6],\n",
    "                 [7, 8, 9]])\n",
    "row= np.array([1])\n",
    "column= np.array([2])\n",
    "new= 20\n",
    "arr7[row[:, np.newaxis], column] = new\n",
    "print(\"arr7: \\n\",arr7, \"\\n\")\n",
    "\n",
    "#Question no 4:\n",
    "arr8 = np.random.randint(1,100,50).reshape(10,5)\n",
    "max_Arr = arr8.max(axis = 0)\n",
    "mean_arr = arr8.mean()\n",
    "std_arr = arr8.std()\n",
    "print(arr8)\n",
    "print(max_Arr)\n",
    "print(mean_arr)\n",
    "print(std_arr)"
   ]
  },
  {
   "cell_type": "code",
   "execution_count": 18,
   "id": "22a24a0c",
   "metadata": {},
   "outputs": [
    {
     "name": "stdout",
     "output_type": "stream",
     "text": [
      "1\n",
      "2\n",
      "3\n",
      "5\n",
      "print 5 in Two_d:  5\n",
      "print 7 in three_d:  7\n",
      "print 5 in three_d:  5\n",
      "print last in three_d:  12\n",
      "print 2 to 8 in one_d:  [2 3 4 5 6 7 8]\n",
      "print even in one_d:  [2 4 6 8]\n",
      "print odd in one_d:  [1 3 5 7 9]\n",
      "print 2 & 5 in three_d:  [2 5]\n",
      "print 5 & 11 in three_d:  [ 5 11]\n",
      "One_d:  [1 2 3 4 5 6 7 8 9]\n",
      "Copy of one_d:  [44  2  3  4  5  6  7  8  9]\n",
      "One_d:  [44  2  3  4  5  6  7  8  9]\n",
      "Copy of one_d:  [44  2  3  4  5  6  7  8  9]\n",
      "one_d shape:  (9,)\n",
      "reshape two_d to one:  [1 2 3 4 5 6]\n",
      "reshape three_d to one:  [ 1  2  3  4  5  6  7  8  9 10 11 12]\n",
      "one_d_array:\n",
      "44\n",
      "2\n",
      "3\n",
      "4\n",
      "5\n",
      "6\n",
      "7\n",
      "8\n",
      "9\n",
      "use nditr:\n",
      "1\n",
      "2\n",
      "3\n",
      "4\n",
      "5\n",
      "6\n",
      "7\n",
      "8\n",
      "9\n",
      "10\n",
      "11\n",
      "12\n",
      "use ndenumerater:\n",
      "((0, 0, 0), 1)\n",
      "((0, 0, 1), 2)\n",
      "((0, 0, 2), 3)\n",
      "((0, 1, 0), 4)\n",
      "((0, 1, 1), 5)\n",
      "((0, 1, 2), 6)\n",
      "((1, 0, 0), 7)\n",
      "((1, 0, 1), 8)\n",
      "((1, 0, 2), 9)\n",
      "((1, 1, 0), 10)\n",
      "((1, 1, 1), 11)\n",
      "((1, 1, 2), 12)\n",
      "concatenation:  [1 2 3 4 5 6]\n",
      "stack:  [[1 2 3]\n",
      " [4 5 6]]\n",
      "stack for row:  [1 2 3 4 5 6]\n",
      "stack for column:  [[1 2 3]\n",
      " [4 5 6]]\n",
      "stack for height:  [[[1 4]\n",
      "  [2 5]\n",
      "  [3 6]]]\n",
      "split one_D array: [array([44,  2,  3]), array([4, 5, 6]), array([7, 8, 9])]\n",
      "Search 7 in one_D array: (array([6], dtype=int64),)\n",
      "Search 7 in one_D array: 7\n"
     ]
    }
   ],
   "source": [
    "#numpy\n",
    "\n",
    "#create array\n",
    "one_d = np.array([1,2,3,4,5,6,7,8,9])\n",
    "one_d\n",
    "Two_d = np.array([[1,2,3],[4,5,6]])\n",
    "Two_d\n",
    "three_d = np.array([[[1,2,3],[4,5,6]],[[7,8,9],[10,11,12]]])\n",
    "three_d\n",
    "five_d = np.array([1,2,3,4,5,6,7,8,9], ndmin = 5)\n",
    "five_d\n",
    "print(one_d.ndim)\n",
    "print(Two_d.ndim)\n",
    "print(three_d.ndim)\n",
    "print(five_d.ndim)\n",
    "\n",
    "#indexing array\n",
    "print(\"print 5 in Two_d: \", Two_d[1,1])\n",
    "print(\"print 7 in three_d: \", three_d[1,0,0])\n",
    "print(\"print 5 in three_d: \", three_d[0,1,1])\n",
    "print(\"print last in three_d: \", three_d[1,1,-1])\n",
    "\n",
    "#array slicing\n",
    "print(\"print 2 to 8 in one_d: \", one_d[1:8])\n",
    "print(\"print even in one_d: \", one_d[1:9:2])\n",
    "print(\"print odd in one_d: \", one_d[0:9:2])\n",
    "print(\"print 2 & 5 in three_d: \", Two_d[0:2, 1])\n",
    "print(\"print 5 & 11 in three_d: \", three_d[0:2, 1, 1])\n",
    "\n",
    "#copy & view in array\n",
    "x = one_d.copy()\n",
    "x[0] = 44\n",
    "print(\"One_d: \", one_d)\n",
    "print(\"Copy of one_d: \", x)\n",
    "y = one_d.view()\n",
    "y[0] = 44\n",
    "print(\"One_d: \", one_d)\n",
    "print(\"Copy of one_d: \", y)\n",
    "\n",
    "#shape in array\n",
    "print(\"one_d shape: \", one_d.shape)\n",
    "print(\"reshape two_d to one: \", Two_d.reshape(-1))\n",
    "print(\"reshape three_d to one: \", three_d.reshape(-1))\n",
    "\n",
    "#iterating\n",
    "print(\"one_d_array:\")\n",
    "for x in one_d:\n",
    "    print(x)\n",
    "print(\"use nditr:\")\n",
    "for x in np.nditer(three_d):\n",
    "    print(x)\n",
    "print(\"use ndenumerater:\")\n",
    "for c in np.ndenumerate(three_d):\n",
    "    print(c)\n",
    "\n",
    "#Concatenation & stack\n",
    "arr1 = np.array([1,2,3])\n",
    "arr2 = np.array([4,5,6])\n",
    "print(\"concatenation: \", np.concatenate((arr1,arr2)))\n",
    "print(\"stack: \", np.stack((arr1,arr2)))\n",
    "print(\"stack for row: \", np.hstack((arr1,arr2)))\n",
    "print(\"stack for column: \", np.vstack((arr1,arr2)))\n",
    "print(\"stack for height: \", np.dstack((arr1,arr2)))\n",
    "\n",
    "#split, search, searchsort\n",
    "print(\"split one_D array:\", np.array_split(one_d,3))\n",
    "print(\"Search 7 in one_D array:\", np.where(one_d == 7))\n",
    "print(\"Search 7 in one_D array:\", np.searchsorted(one_d, 7, side='right'))\n",
    "\n"
   ]
  },
  {
   "cell_type": "code",
   "execution_count": 19,
   "id": "7afa9b8b",
   "metadata": {},
   "outputs": [
    {
     "data": {
      "text/html": [
       "<div>\n",
       "<style scoped>\n",
       "    .dataframe tbody tr th:only-of-type {\n",
       "        vertical-align: middle;\n",
       "    }\n",
       "\n",
       "    .dataframe tbody tr th {\n",
       "        vertical-align: top;\n",
       "    }\n",
       "\n",
       "    .dataframe thead th {\n",
       "        text-align: right;\n",
       "    }\n",
       "</style>\n",
       "<table border=\"1\" class=\"dataframe\">\n",
       "  <thead>\n",
       "    <tr style=\"text-align: right;\">\n",
       "      <th></th>\n",
       "      <th>Mun</th>\n",
       "      <th>Meh</th>\n",
       "      <th>Ali</th>\n",
       "    </tr>\n",
       "  </thead>\n",
       "  <tbody>\n",
       "    <tr>\n",
       "      <th>0</th>\n",
       "      <td>42</td>\n",
       "      <td>63</td>\n",
       "      <td>47</td>\n",
       "    </tr>\n",
       "    <tr>\n",
       "      <th>1</th>\n",
       "      <td>74</td>\n",
       "      <td>62</td>\n",
       "      <td>80</td>\n",
       "    </tr>\n",
       "    <tr>\n",
       "      <th>2</th>\n",
       "      <td>42</td>\n",
       "      <td>43</td>\n",
       "      <td>52</td>\n",
       "    </tr>\n",
       "    <tr>\n",
       "      <th>3</th>\n",
       "      <td>79</td>\n",
       "      <td>54</td>\n",
       "      <td>45</td>\n",
       "    </tr>\n",
       "    <tr>\n",
       "      <th>4</th>\n",
       "      <td>99</td>\n",
       "      <td>98</td>\n",
       "      <td>53</td>\n",
       "    </tr>\n",
       "  </tbody>\n",
       "</table>\n",
       "</div>"
      ],
      "text/plain": [
       "   Mun  Meh  Ali\n",
       "0   42   63   47\n",
       "1   74   62   80\n",
       "2   42   43   52\n",
       "3   79   54   45\n",
       "4   99   98   53"
      ]
     },
     "execution_count": 19,
     "metadata": {},
     "output_type": "execute_result"
    }
   ],
   "source": [
    "#pandas\n",
    "import pandas as pd\n",
    "\n",
    "marks={\"Mun\": np.random.randint(40,100,5), \"Meh\": np.random.randint(40,100,5), \"Ali\": np.random.randint(40,100,5)}\n",
    "grades = pd.DataFrame(marks)\n",
    "grades"
   ]
  },
  {
   "cell_type": "code",
   "execution_count": 20,
   "id": "0e515014",
   "metadata": {},
   "outputs": [
    {
     "data": {
      "text/html": [
       "<div>\n",
       "<style scoped>\n",
       "    .dataframe tbody tr th:only-of-type {\n",
       "        vertical-align: middle;\n",
       "    }\n",
       "\n",
       "    .dataframe tbody tr th {\n",
       "        vertical-align: top;\n",
       "    }\n",
       "\n",
       "    .dataframe thead th {\n",
       "        text-align: right;\n",
       "    }\n",
       "</style>\n",
       "<table border=\"1\" class=\"dataframe\">\n",
       "  <thead>\n",
       "    <tr style=\"text-align: right;\">\n",
       "      <th></th>\n",
       "      <th>Mun</th>\n",
       "      <th>Meh</th>\n",
       "      <th>Ali</th>\n",
       "    </tr>\n",
       "  </thead>\n",
       "  <tbody>\n",
       "    <tr>\n",
       "      <th>se101</th>\n",
       "      <td>42</td>\n",
       "      <td>63</td>\n",
       "      <td>47</td>\n",
       "    </tr>\n",
       "    <tr>\n",
       "      <th>se105</th>\n",
       "      <td>74</td>\n",
       "      <td>62</td>\n",
       "      <td>80</td>\n",
       "    </tr>\n",
       "    <tr>\n",
       "      <th>se103</th>\n",
       "      <td>42</td>\n",
       "      <td>43</td>\n",
       "      <td>52</td>\n",
       "    </tr>\n",
       "    <tr>\n",
       "      <th>se102</th>\n",
       "      <td>79</td>\n",
       "      <td>54</td>\n",
       "      <td>45</td>\n",
       "    </tr>\n",
       "    <tr>\n",
       "      <th>se104</th>\n",
       "      <td>99</td>\n",
       "      <td>98</td>\n",
       "      <td>53</td>\n",
       "    </tr>\n",
       "  </tbody>\n",
       "</table>\n",
       "</div>"
      ],
      "text/plain": [
       "       Mun  Meh  Ali\n",
       "se101   42   63   47\n",
       "se105   74   62   80\n",
       "se103   42   43   52\n",
       "se102   79   54   45\n",
       "se104   99   98   53"
      ]
     },
     "execution_count": 20,
     "metadata": {},
     "output_type": "execute_result"
    }
   ],
   "source": [
    "grades.index = {\"se101\", \"se102\", \"se103\", \"se104\", \"se105\"}\n",
    "grades"
   ]
  },
  {
   "cell_type": "code",
   "execution_count": 21,
   "id": "225e1964",
   "metadata": {},
   "outputs": [
    {
     "data": {
      "text/plain": [
       "<Axes: >"
      ]
     },
     "execution_count": 21,
     "metadata": {},
     "output_type": "execute_result"
    },
    {
     "data": {
      "image/png": "[encoded data removed]",
      "text/plain": [
       "<Figure size 640x480 with 1 Axes>"
      ]
     },
     "metadata": {},
     "output_type": "display_data"
    }
   ],
   "source": [
    "grades.plot(kind='bar')"
   ]
  },
  {
   "cell_type": "code",
   "execution_count": 22,
   "id": "ea32f520",
   "metadata": {},
   "outputs": [
    {
     "data": {
      "text/plain": [
       "<Axes: >"
      ]
     },
     "execution_count": 22,
     "metadata": {},
     "output_type": "execute_result"
    },
    {
     "data": {
      "image/png": "[encoded data removed]",
      "text/plain": [
       "<Figure size 640x480 with 1 Axes>"
      ]
     },
     "metadata": {},
     "output_type": "display_data"
    }
   ],
   "source": [
    "grades.Mun.plot(kind = 'bar')"
   ]
  },
  {
   "cell_type": "code",
   "execution_count": 23,
   "id": "887feb6d",
   "metadata": {},
   "outputs": [
    {
     "name": "stdout",
     "output_type": "stream",
     "text": [
      "   Student_ID     Name Course_Code       Course_Name  Max_Students  \\\n",
      "0           1    Alice      CSC101  Computer Science             2   \n",
      "1           4    David      CSC101  Computer Science             2   \n",
      "2           2      Bob      MAT201    Linear Algebra             3   \n",
      "3           6    Frank      MAT201    Linear Algebra             3   \n",
      "4           3  Charlie      PHY301    Modern Physics             1   \n",
      "5           5      Eva      PHY301    Modern Physics             1   \n",
      "\n",
      "  Enrollement status  \n",
      "0           Enrolled  \n",
      "1           Enrolled  \n",
      "2           Enrolled  \n",
      "3           Enrolled  \n",
      "4           Enrolled  \n",
      "5           Enrolled  \n"
     ]
    }
   ],
   "source": [
    "#Dataframe Example\n",
    "import pandas as pd\n",
    "\n",
    "def enrollment_status(df_courses, df_students):\n",
    "    \n",
    "    result = pd.merge(df_students, df_courses, on='Course_Code') \n",
    "    \n",
    "    result[\"Enrollement status\"] = \"Enrolled\";\n",
    "    print(result)\n",
    "    \n",
    "\n",
    "data_students = {\n",
    "    'Student_ID': [1, 2, 3, 4, 5, 6],\n",
    "    'Name': ['Alice', 'Bob', 'Charlie', 'David', 'Eva', 'Frank'],\n",
    "    'Course_Code': ['CSC101', 'MAT201', 'PHY301', 'CSC101', 'PHY301', 'MAT201']\n",
    "}\n",
    "\n",
    "df_students = pd.DataFrame(data_students)\n",
    "\n",
    "data_courses = {\n",
    "    'Course_Code': ['CSC101', 'MAT201', 'PHY301'],\n",
    "    'Course_Name': ['Computer Science', 'Linear Algebra', 'Modern Physics'],\n",
    "    'Max_Students': [2, 3, 1]\n",
    "}\n",
    "\n",
    "df_courses = pd.DataFrame(data_courses)\n",
    "\n",
    "enrollment_status(df_courses, df_students);\n"
   ]
  },
  {
   "cell_type": "code",
   "execution_count": 24,
   "id": "a799e54d",
   "metadata": {},
   "outputs": [
    {
     "name": "stdout",
     "output_type": "stream",
     "text": [
      "  Type         Name  Quantity  Price\n",
      "0    A  Electronics        10    500\n",
      "1    B     Clothing        20     30\n",
      "2    C  Electronics        15    800\n",
      "3    D  Electronics         8   1200\n",
      "4    E     Clothing        25     25\n",
      "  Type         Name  Quantity  Price  total_sales\n",
      "0    A  Electronics        10    500         5000\n",
      "1    B     Clothing        20     30          600\n",
      "2    C  Electronics        15    800        12000\n",
      "3    D  Electronics         8   1200         9600\n",
      "4    E     Clothing        25     25          625\n",
      "5    F        Books        30     15          450\n",
      "6    G        Books        12     20          240\n",
      "7    H  Electronics        18   1000        18000\n",
      "8    I        Books        22     18          396\n",
      "9    J     Clothing        16     35          560\n",
      "Name\n",
      "Books           1086\n",
      "Clothing        1785\n",
      "Electronics    44600\n",
      "Name: total_sales, dtype: int64\n"
     ]
    }
   ],
   "source": [
    "import pandas as pd\n",
    "sales_data = [\n",
    "    (\"A\", \"Electronics\", 10, 500),\n",
    "    (\"B\", \"Clothing\", 20, 30),\n",
    "    (\"C\", \"Electronics\", 15, 800),\n",
    "    (\"D\", \"Electronics\", 8, 1200),\n",
    "    (\"E\", \"Clothing\", 25, 25),\n",
    "    (\"F\", \"Books\", 30, 15),\n",
    "    (\"G\", \"Books\", 12, 20),\n",
    "    (\"H\", \"Electronics\", 18, 1000),\n",
    "    (\"I\", \"Books\", 22, 18),\n",
    "    (\"J\", \"Clothing\", 16, 35),\n",
    "]\n",
    "\n",
    "sales_df = pd.DataFrame(sales_data, columns = [\"Type\", \"Name\", \"Quantity\", \"Price\"])\n",
    "\n",
    "#part 1\n",
    "print(sales_df[0:5])\n",
    "\n",
    "#part 2\n",
    "sales_df[\"total_sales\"] = sales_df[\"Quantity\"] * sales_df[\"Price\"]\n",
    "print(sales_df)\n",
    "\n",
    "#part 3\n",
    "category_sales = []\n",
    "category_sales = sales_df.groupby('Name')['total_sales'].sum();\n",
    "print(category_sales)"
   ]
  },
  {
   "cell_type": "code",
   "execution_count": 25,
   "id": "76ef096d",
   "metadata": {},
   "outputs": [],
   "source": [
    "import csv"
   ]
  },
  {
   "cell_type": "code",
   "execution_count": 26,
   "id": "024a94bd",
   "metadata": {},
   "outputs": [],
   "source": [
    "with open('accounts.csv', 'w', newline='') as accounts:\n",
    "    writer = csv.writer(accounts)\n",
    "    writer.writerows([\n",
    "        [104, 'Philips', 24.56],\n",
    "        [105,'Adam', 10.23]\n",
    "    ])\n",
    "accounts.close()"
   ]
  },
  {
   "cell_type": "code",
   "execution_count": 27,
   "id": "ce8454f1",
   "metadata": {},
   "outputs": [
    {
     "name": "stdout",
     "output_type": "stream",
     "text": [
      "Account   Name         Balance\n",
      "104       Philips        24.56\n",
      "105       Adam           10.23\n"
     ]
    }
   ],
   "source": [
    "with open('accounts.csv', 'r', newline='') as accounts:\n",
    "    print(f'{\"Account\":<10}{\"Name\":<10}{\"Balance\":>10}')\n",
    "    reader = csv.reader(accounts)\n",
    "    for values in reader:\n",
    "        account, name, balance = values\n",
    "        print(f'{account:<10}{name:<10}{balance:>10}')\n",
    "accounts.close()"
   ]
  },
  {
   "cell_type": "code",
   "execution_count": 28,
   "id": "47072e13",
   "metadata": {},
   "outputs": [
    {
     "data": {
      "text/html": [
       "<div>\n",
       "<style scoped>\n",
       "    .dataframe tbody tr th:only-of-type {\n",
       "        vertical-align: middle;\n",
       "    }\n",
       "\n",
       "    .dataframe tbody tr th {\n",
       "        vertical-align: top;\n",
       "    }\n",
       "\n",
       "    .dataframe thead th {\n",
       "        text-align: right;\n",
       "    }\n",
       "</style>\n",
       "<table border=\"1\" class=\"dataframe\">\n",
       "  <thead>\n",
       "    <tr style=\"text-align: right;\">\n",
       "      <th></th>\n",
       "      <th>Account</th>\n",
       "      <th>Name</th>\n",
       "      <th>Balance</th>\n",
       "    </tr>\n",
       "  </thead>\n",
       "  <tbody>\n",
       "    <tr>\n",
       "      <th>0</th>\n",
       "      <td>104</td>\n",
       "      <td>Philips</td>\n",
       "      <td>24.56</td>\n",
       "    </tr>\n",
       "    <tr>\n",
       "      <th>1</th>\n",
       "      <td>105</td>\n",
       "      <td>Adam</td>\n",
       "      <td>10.23</td>\n",
       "    </tr>\n",
       "  </tbody>\n",
       "</table>\n",
       "</div>"
      ],
      "text/plain": [
       "   Account     Name  Balance\n",
       "0      104  Philips    24.56\n",
       "1      105     Adam    10.23"
      ]
     },
     "execution_count": 28,
     "metadata": {},
     "output_type": "execute_result"
    }
   ],
   "source": [
    "df = pd.read_csv('accounts.csv', names = ['Account', 'Name', 'Balance'])\n",
    "df"
   ]
  },
  {
   "cell_type": "code",
   "execution_count": 29,
   "id": "f29e969b",
   "metadata": {},
   "outputs": [
    {
     "data": {
      "text/html": [
       "<div>\n",
       "<style scoped>\n",
       "    .dataframe tbody tr th:only-of-type {\n",
       "        vertical-align: middle;\n",
       "    }\n",
       "\n",
       "    .dataframe tbody tr th {\n",
       "        vertical-align: top;\n",
       "    }\n",
       "\n",
       "    .dataframe thead th {\n",
       "        text-align: right;\n",
       "    }\n",
       "</style>\n",
       "<table border=\"1\" class=\"dataframe\">\n",
       "  <thead>\n",
       "    <tr style=\"text-align: right;\">\n",
       "      <th></th>\n",
       "      <th>Account</th>\n",
       "      <th>Name</th>\n",
       "      <th>Balance</th>\n",
       "    </tr>\n",
       "  </thead>\n",
       "  <tbody>\n",
       "    <tr>\n",
       "      <th>0</th>\n",
       "      <td>104</td>\n",
       "      <td>Philips</td>\n",
       "      <td>24.56</td>\n",
       "    </tr>\n",
       "    <tr>\n",
       "      <th>1</th>\n",
       "      <td>105</td>\n",
       "      <td>Adam</td>\n",
       "      <td>10.23</td>\n",
       "    </tr>\n",
       "  </tbody>\n",
       "</table>\n",
       "</div>"
      ],
      "text/plain": [
       "   Account     Name  Balance\n",
       "0      104  Philips    24.56\n",
       "1      105     Adam    10.23"
      ]
     },
     "execution_count": 29,
     "metadata": {},
     "output_type": "execute_result"
    }
   ],
   "source": [
    "df.to_csv('new_account.csv', index = False)\n",
    "df1 = pd.read_csv('new_account.csv')\n",
    "df1"
   ]
  },
  {
   "cell_type": "code",
   "execution_count": 30,
   "id": "a2dd4aec",
   "metadata": {},
   "outputs": [
    {
     "data": {
      "text/html": [
       "<div>\n",
       "<style scoped>\n",
       "    .dataframe tbody tr th:only-of-type {\n",
       "        vertical-align: middle;\n",
       "    }\n",
       "\n",
       "    .dataframe tbody tr th {\n",
       "        vertical-align: top;\n",
       "    }\n",
       "\n",
       "    .dataframe thead th {\n",
       "        text-align: right;\n",
       "    }\n",
       "</style>\n",
       "<table border=\"1\" class=\"dataframe\">\n",
       "  <thead>\n",
       "    <tr style=\"text-align: right;\">\n",
       "      <th></th>\n",
       "      <th>Account</th>\n",
       "      <th>Name</th>\n",
       "      <th>Balance</th>\n",
       "    </tr>\n",
       "  </thead>\n",
       "  <tbody>\n",
       "    <tr>\n",
       "      <th>0</th>\n",
       "      <td>104</td>\n",
       "      <td>Philips</td>\n",
       "      <td>24.56</td>\n",
       "    </tr>\n",
       "    <tr>\n",
       "      <th>1</th>\n",
       "      <td>105</td>\n",
       "      <td>Adam</td>\n",
       "      <td>10.23</td>\n",
       "    </tr>\n",
       "  </tbody>\n",
       "</table>\n",
       "</div>"
      ],
      "text/plain": [
       "   Account     Name  Balance\n",
       "0      104  Philips    24.56\n",
       "1      105     Adam    10.23"
      ]
     },
     "execution_count": 30,
     "metadata": {},
     "output_type": "execute_result"
    }
   ],
   "source": [
    "df1.head()"
   ]
  },
  {
   "cell_type": "code",
   "execution_count": 31,
   "id": "f1966df6",
   "metadata": {},
   "outputs": [
    {
     "data": {
      "text/html": [
       "<div>\n",
       "<style scoped>\n",
       "    .dataframe tbody tr th:only-of-type {\n",
       "        vertical-align: middle;\n",
       "    }\n",
       "\n",
       "    .dataframe tbody tr th {\n",
       "        vertical-align: top;\n",
       "    }\n",
       "\n",
       "    .dataframe thead th {\n",
       "        text-align: right;\n",
       "    }\n",
       "</style>\n",
       "<table border=\"1\" class=\"dataframe\">\n",
       "  <thead>\n",
       "    <tr style=\"text-align: right;\">\n",
       "      <th></th>\n",
       "      <th>Account</th>\n",
       "      <th>Name</th>\n",
       "      <th>Balance</th>\n",
       "    </tr>\n",
       "  </thead>\n",
       "  <tbody>\n",
       "    <tr>\n",
       "      <th>0</th>\n",
       "      <td>104</td>\n",
       "      <td>Philips</td>\n",
       "      <td>24.56</td>\n",
       "    </tr>\n",
       "    <tr>\n",
       "      <th>1</th>\n",
       "      <td>105</td>\n",
       "      <td>Adam</td>\n",
       "      <td>10.23</td>\n",
       "    </tr>\n",
       "  </tbody>\n",
       "</table>\n",
       "</div>"
      ],
      "text/plain": [
       "   Account     Name  Balance\n",
       "0      104  Philips    24.56\n",
       "1      105     Adam    10.23"
      ]
     },
     "execution_count": 31,
     "metadata": {},
     "output_type": "execute_result"
    }
   ],
   "source": [
    "df1.tail()"
   ]
  },
  {
   "cell_type": "code",
   "execution_count": 32,
   "id": "5e154353",
   "metadata": {},
   "outputs": [
    {
     "data": {
      "text/plain": [
       "count        2\n",
       "unique       2\n",
       "top       True\n",
       "freq         1\n",
       "Name: Balance, dtype: object"
      ]
     },
     "execution_count": 32,
     "metadata": {},
     "output_type": "execute_result"
    }
   ],
   "source": [
    "(df1.Balance > 20).describe()"
   ]
  },
  {
   "cell_type": "code",
   "execution_count": 33,
   "id": "89e26cb1",
   "metadata": {},
   "outputs": [
    {
     "data": {
      "text/html": [
       "<div>\n",
       "<style scoped>\n",
       "    .dataframe tbody tr th:only-of-type {\n",
       "        vertical-align: middle;\n",
       "    }\n",
       "\n",
       "    .dataframe tbody tr th {\n",
       "        vertical-align: top;\n",
       "    }\n",
       "\n",
       "    .dataframe thead th {\n",
       "        text-align: right;\n",
       "    }\n",
       "</style>\n",
       "<table border=\"1\" class=\"dataframe\">\n",
       "  <thead>\n",
       "    <tr style=\"text-align: right;\">\n",
       "      <th></th>\n",
       "      <th>Account</th>\n",
       "      <th>Name</th>\n",
       "      <th>Balance</th>\n",
       "    </tr>\n",
       "  </thead>\n",
       "  <tbody>\n",
       "    <tr>\n",
       "      <th>0</th>\n",
       "      <td>104</td>\n",
       "      <td>Philips</td>\n",
       "      <td>24.56</td>\n",
       "    </tr>\n",
       "  </tbody>\n",
       "</table>\n",
       "</div>"
      ],
      "text/plain": [
       "   Account     Name  Balance\n",
       "0      104  Philips    24.56"
      ]
     },
     "execution_count": 33,
     "metadata": {},
     "output_type": "execute_result"
    }
   ],
   "source": [
    "df1[df1.Balance > 20]"
   ]
  },
  {
   "cell_type": "code",
   "execution_count": 34,
   "id": "9fcf5f26",
   "metadata": {},
   "outputs": [
    {
     "data": {
      "text/html": [
       "<div>\n",
       "<style scoped>\n",
       "    .dataframe tbody tr th:only-of-type {\n",
       "        vertical-align: middle;\n",
       "    }\n",
       "\n",
       "    .dataframe tbody tr th {\n",
       "        vertical-align: top;\n",
       "    }\n",
       "\n",
       "    .dataframe thead th {\n",
       "        text-align: right;\n",
       "    }\n",
       "</style>\n",
       "<table border=\"1\" class=\"dataframe\">\n",
       "  <thead>\n",
       "    <tr style=\"text-align: right;\">\n",
       "      <th></th>\n",
       "      <th>Account</th>\n",
       "      <th>Name</th>\n",
       "      <th>Balance</th>\n",
       "    </tr>\n",
       "  </thead>\n",
       "  <tbody>\n",
       "    <tr>\n",
       "      <th>0</th>\n",
       "      <td>104</td>\n",
       "      <td>Philips</td>\n",
       "      <td>24.56</td>\n",
       "    </tr>\n",
       "    <tr>\n",
       "      <th>1</th>\n",
       "      <td>105</td>\n",
       "      <td>Adam</td>\n",
       "      <td>10.23</td>\n",
       "    </tr>\n",
       "  </tbody>\n",
       "</table>\n",
       "</div>"
      ],
      "text/plain": [
       "   Account     Name  Balance\n",
       "0      104  Philips    24.56\n",
       "1      105     Adam    10.23"
      ]
     },
     "execution_count": 34,
     "metadata": {},
     "output_type": "execute_result"
    }
   ],
   "source": [
    "df2 = df1\n",
    "df2.add(df1, fill_value=0)\n",
    "df2"
   ]
  },
  {
   "cell_type": "code",
   "execution_count": 35,
   "id": "c67ee611",
   "metadata": {},
   "outputs": [
    {
     "data": {
      "text/html": [
       "<div>\n",
       "<style scoped>\n",
       "    .dataframe tbody tr th:only-of-type {\n",
       "        vertical-align: middle;\n",
       "    }\n",
       "\n",
       "    .dataframe tbody tr th {\n",
       "        vertical-align: top;\n",
       "    }\n",
       "\n",
       "    .dataframe thead th {\n",
       "        text-align: right;\n",
       "    }\n",
       "</style>\n",
       "<table border=\"1\" class=\"dataframe\">\n",
       "  <thead>\n",
       "    <tr style=\"text-align: right;\">\n",
       "      <th></th>\n",
       "      <th>0</th>\n",
       "      <th>1</th>\n",
       "      <th>2</th>\n",
       "      <th>3</th>\n",
       "      <th>4</th>\n",
       "      <th>5</th>\n",
       "      <th>6</th>\n",
       "    </tr>\n",
       "  </thead>\n",
       "  <tbody>\n",
       "    <tr>\n",
       "      <th>1</th>\n",
       "      <td>7</td>\n",
       "      <td>8</td>\n",
       "      <td>9</td>\n",
       "      <td>10</td>\n",
       "      <td>11</td>\n",
       "      <td>12</td>\n",
       "      <td>13</td>\n",
       "    </tr>\n",
       "    <tr>\n",
       "      <th>0</th>\n",
       "      <td>0</td>\n",
       "      <td>1</td>\n",
       "      <td>2</td>\n",
       "      <td>3</td>\n",
       "      <td>4</td>\n",
       "      <td>5</td>\n",
       "      <td>6</td>\n",
       "    </tr>\n",
       "    <tr>\n",
       "      <th>2</th>\n",
       "      <td>14</td>\n",
       "      <td>15</td>\n",
       "      <td>16</td>\n",
       "      <td>17</td>\n",
       "      <td>18</td>\n",
       "      <td>19</td>\n",
       "      <td>20</td>\n",
       "    </tr>\n",
       "  </tbody>\n",
       "</table>\n",
       "</div>"
      ],
      "text/plain": [
       "    0   1   2   3   4   5   6\n",
       "1   7   8   9  10  11  12  13\n",
       "0   0   1   2   3   4   5   6\n",
       "2  14  15  16  17  18  19  20"
      ]
     },
     "execution_count": 35,
     "metadata": {},
     "output_type": "execute_result"
    }
   ],
   "source": [
    "\n",
    "tinp = pd.DataFrame(np.arange(5*7).reshape(5,7))\n",
    "tinp\n",
    "\n",
    "\n",
    "sampler = np.random.permutation(3)\n",
    "sampler\n",
    "tinp.take(sampler)"
   ]
  },
  {
   "cell_type": "code",
   "execution_count": 36,
   "id": "2f2ce9b0",
   "metadata": {},
   "outputs": [
    {
     "data": {
      "text/html": [
       "<div>\n",
       "<style scoped>\n",
       "    .dataframe tbody tr th:only-of-type {\n",
       "        vertical-align: middle;\n",
       "    }\n",
       "\n",
       "    .dataframe tbody tr th {\n",
       "        vertical-align: top;\n",
       "    }\n",
       "\n",
       "    .dataframe thead th {\n",
       "        text-align: right;\n",
       "    }\n",
       "</style>\n",
       "<table border=\"1\" class=\"dataframe\">\n",
       "  <thead>\n",
       "    <tr style=\"text-align: right;\">\n",
       "      <th></th>\n",
       "      <th>0</th>\n",
       "      <th>1</th>\n",
       "    </tr>\n",
       "  </thead>\n",
       "  <tbody>\n",
       "    <tr>\n",
       "      <th>a</th>\n",
       "      <td>0</td>\n",
       "      <td>0</td>\n",
       "    </tr>\n",
       "    <tr>\n",
       "      <th>b</th>\n",
       "      <td>1</td>\n",
       "      <td>1</td>\n",
       "    </tr>\n",
       "  </tbody>\n",
       "</table>\n",
       "</div>"
      ],
      "text/plain": [
       "   0  1\n",
       "a  0  0\n",
       "b  1  1"
      ]
     },
     "execution_count": 36,
     "metadata": {},
     "output_type": "execute_result"
    }
   ],
   "source": [
    "s1 = pd.Series([0,1], index = [\"a\",\"b\"])\n",
    "s2 = pd.Series([0,1,4], index = [\"c\",\"d\", \"e\"])\n",
    "s3 = pd.Series([5,6], index = [\"f\",\"g\"])\n",
    "\n",
    "pd.concat([s1,s2,s3], axis=\"columns\")\n",
    "s4 = pd.concat([s1,s3])\n",
    "pd.concat([s1,s4], axis=\"columns\", join=\"inner\")"
   ]
  },
  {
   "cell_type": "code",
   "execution_count": 37,
   "id": "fec03846",
   "metadata": {},
   "outputs": [
    {
     "name": "stdout",
     "output_type": "stream",
     "text": [
      "Series:\n",
      " x    Orange\n",
      "y    Banana\n",
      "z     Apple\n",
      "dtype: object\n",
      "     name  price\n",
      "0  Orange    100\n",
      "1  Banana    200\n",
      "2   Apple    300\n",
      "First row of dataframe: \n",
      " name     Orange\n",
      "price       100\n",
      "Name: 0, dtype: object\n"
     ]
    },
    {
     "data": {
      "text/html": [
       "<div>\n",
       "<style scoped>\n",
       "    .dataframe tbody tr th:only-of-type {\n",
       "        vertical-align: middle;\n",
       "    }\n",
       "\n",
       "    .dataframe tbody tr th {\n",
       "        vertical-align: top;\n",
       "    }\n",
       "\n",
       "    .dataframe thead th {\n",
       "        text-align: right;\n",
       "    }\n",
       "</style>\n",
       "<table border=\"1\" class=\"dataframe\">\n",
       "  <thead>\n",
       "    <tr style=\"text-align: right;\">\n",
       "      <th></th>\n",
       "      <th>CS2001</th>\n",
       "      <th>98</th>\n",
       "      <th>94</th>\n",
       "      <th>94.1</th>\n",
       "    </tr>\n",
       "  </thead>\n",
       "  <tbody>\n",
       "    <tr>\n",
       "      <th>0</th>\n",
       "      <td>SE3001</td>\n",
       "      <td>74</td>\n",
       "      <td>97</td>\n",
       "      <td>73</td>\n",
       "    </tr>\n",
       "    <tr>\n",
       "      <th>1</th>\n",
       "      <td>CS2101</td>\n",
       "      <td>60</td>\n",
       "      <td>86</td>\n",
       "      <td>84</td>\n",
       "    </tr>\n",
       "    <tr>\n",
       "      <th>2</th>\n",
       "      <td>SE3210</td>\n",
       "      <td>65</td>\n",
       "      <td>60</td>\n",
       "      <td>66</td>\n",
       "    </tr>\n",
       "    <tr>\n",
       "      <th>3</th>\n",
       "      <td>SE3101</td>\n",
       "      <td>72</td>\n",
       "      <td>97</td>\n",
       "      <td>77</td>\n",
       "    </tr>\n",
       "  </tbody>\n",
       "</table>\n",
       "</div>"
      ],
      "text/plain": [
       "   CS2001  98  94  94.1\n",
       "0  SE3001  74  97    73\n",
       "1  CS2101  60  86    84\n",
       "2  SE3210  65  60    66\n",
       "3  SE3101  72  97    77"
      ]
     },
     "execution_count": 37,
     "metadata": {},
     "output_type": "execute_result"
    }
   ],
   "source": [
    "#Pandas\n",
    "import pandas as pd\n",
    "import csv\n",
    "\n",
    "#Series\n",
    "data = [\"Orange\", \"Banana\", \"Apple\"]\n",
    "series = pd.Series(data, index = [\"x\",\"y\",\"z\"])\n",
    "print(\"Series:\\n\",series)\n",
    "\n",
    "data1 = {\n",
    "    \"name\" : [\"Orange\", \"Banana\", \"Apple\"],\n",
    "    \"price\" : [100, 200, 300]\n",
    "}\n",
    "\n",
    "#Dataframe\n",
    "dataframe = pd.DataFrame(data1)\n",
    "print(dataframe)\n",
    "print(\"First row of dataframe: \\n\", dataframe.iloc[0])\n",
    "\n",
    "#Read CSV file\n",
    "dataframe1 = pd.read_csv('grades.csv')\n",
    "dataframe1"
   ]
  },
  {
   "cell_type": "code",
   "execution_count": 38,
   "id": "bb13a441",
   "metadata": {},
   "outputs": [],
   "source": [
    "#write csv\n",
    "with open(\"accounts.csv\", 'a', newline='') as accounts:\n",
    "    writer = csv.writer(accounts)\n",
    "    accounts.write(\"\\n\")\n",
    "    writer.writerow([102,'hamza',44.5])\n",
    "accounts.close()"
   ]
  },
  {
   "cell_type": "code",
   "execution_count": 39,
   "id": "bf7cd39f",
   "metadata": {},
   "outputs": [
    {
     "name": "stdout",
     "output_type": "stream",
     "text": [
      "['104', 'Philips', '24.56']\n",
      "['105', 'Adam', '10.23']\n",
      "[]\n",
      "['102', 'hamza', '44.5']\n"
     ]
    }
   ],
   "source": [
    "#read csv\n",
    "with open (\"accounts.csv\", 'r', newline='') as accounts1:\n",
    "    reader = csv.reader(accounts1)\n",
    "    for record in reader:\n",
    "        print(record)\n",
    "accounts1.close()"
   ]
  },
  {
   "cell_type": "code",
   "execution_count": 40,
   "id": "6fc29d5b",
   "metadata": {},
   "outputs": [
    {
     "name": "stdout",
     "output_type": "stream",
     "text": [
      "dataframe: \n",
      "    104 Philips  24.56\n",
      "0  105    Adam  10.23\n",
      "1  102   hamza  44.50 \n",
      "\n",
      "head: \n",
      "    104 Philips  24.56\n",
      "0  105    Adam  10.23 \n",
      "\n",
      "tail: \n",
      "    104 Philips  24.56\n",
      "1  102   hamza   44.5 \n",
      "\n",
      "describe: \n",
      "               Id     Amount\n",
      "count    2.00000   2.000000\n",
      "mean   103.50000  27.365000\n",
      "std      2.12132  24.232549\n",
      "min    102.00000  10.230000\n",
      "25%    102.75000  18.797500\n",
      "50%    103.50000  27.365000\n",
      "75%    104.25000  35.932500\n",
      "max    105.00000  44.500000 \n",
      "\n",
      "<class 'pandas.core.frame.DataFrame'>\n",
      "RangeIndex: 2 entries, 0 to 1\n",
      "Data columns (total 3 columns):\n",
      " #   Column  Non-Null Count  Dtype  \n",
      "---  ------  --------------  -----  \n",
      " 0   Id      2 non-null      int64  \n",
      " 1   Name    2 non-null      object \n",
      " 2   Amount  2 non-null      float64\n",
      "dtypes: float64(1), int64(1), object(1)\n",
      "memory usage: 180.0+ bytes\n",
      "info: \n",
      " None \n",
      "\n",
      "hist: \n",
      " [[<Axes: title={'center': 'Id'}> <Axes: title={'center': 'Amount'}>]] \n",
      "\n",
      "dataframe: \n",
      "                                  name survived  gender      age\n",
      "0       Allen, Miss. Elisabeth Walton      yes  female  29.0000\n",
      "1      Allison, Master. Hudson Trevor      yes    male   0.9167\n",
      "2        Allison, Miss. Helen Loraine       no  female   2.0000\n",
      "3     Allison, Mr. Hudson Joshua Crei       no    male  30.0000\n",
      "4     Allison, Mrs. Hudson J C (Bessi       no  female  25.0000\n",
      "...                               ...      ...     ...      ...\n",
      "1304             Zabour, Miss. Hileni       no  female  14.5000\n",
      "1305            Zabour, Miss. Thamine       no  female      NaN\n",
      "1306        Zakarian, Mr. Mapriededer       no    male  26.5000\n",
      "1307              Zakarian, Mr. Ortin       no    male  27.0000\n",
      "1308               Zimmerman, Mr. Leo       no    male  29.0000\n",
      "\n",
      "[1309 rows x 4 columns]\n",
      "notna: \n",
      "                                  name survived  gender      age\n",
      "0       Allen, Miss. Elisabeth Walton      yes  female  29.0000\n",
      "1      Allison, Master. Hudson Trevor      yes    male   0.9167\n",
      "2        Allison, Miss. Helen Loraine       no  female   2.0000\n",
      "3     Allison, Mr. Hudson Joshua Crei       no    male  30.0000\n",
      "4     Allison, Mrs. Hudson J C (Bessi       no  female  25.0000\n",
      "...                               ...      ...     ...      ...\n",
      "1301             Youseff, Mr. Gerious       no    male  45.5000\n",
      "1304             Zabour, Miss. Hileni       no  female  14.5000\n",
      "1306        Zakarian, Mr. Mapriededer       no    male  26.5000\n",
      "1307              Zakarian, Mr. Ortin       no    male  27.0000\n",
      "1308               Zimmerman, Mr. Leo       no    male  29.0000\n",
      "\n",
      "[1046 rows x 4 columns]\n",
      "dropna: \n",
      "                                  name survived  gender      age\n",
      "0       Allen, Miss. Elisabeth Walton      yes  female  29.0000\n",
      "1      Allison, Master. Hudson Trevor      yes    male   0.9167\n",
      "2        Allison, Miss. Helen Loraine       no  female   2.0000\n",
      "3     Allison, Mr. Hudson Joshua Crei       no    male  30.0000\n",
      "4     Allison, Mrs. Hudson J C (Bessi       no  female  25.0000\n",
      "...                               ...      ...     ...      ...\n",
      "1301             Youseff, Mr. Gerious       no    male  45.5000\n",
      "1304             Zabour, Miss. Hileni       no  female  14.5000\n",
      "1306        Zakarian, Mr. Mapriededer       no    male  26.5000\n",
      "1307              Zakarian, Mr. Ortin       no    male  27.0000\n",
      "1308               Zimmerman, Mr. Leo       no    male  29.0000\n",
      "\n",
      "[1046 rows x 4 columns]\n",
      "count: \n",
      " male      843\n",
      "female    466\n",
      "Name: gender, dtype: int64\n",
      "notna: \n",
      "                                  name survived  gender      age\n",
      "0       Allen, Miss. Elisabeth Walton      yes  female  29.0000\n",
      "1      Allison, Master. Hudson Trevor      yes    male   0.9167\n",
      "2        Allison, Miss. Helen Loraine       no  female   2.0000\n",
      "3     Allison, Mr. Hudson Joshua Crei       no    male  30.0000\n",
      "4     Allison, Mrs. Hudson J C (Bessi       no  female  25.0000\n",
      "...                               ...      ...     ...      ...\n",
      "1301             Youseff, Mr. Gerious       no    male  45.5000\n",
      "1304             Zabour, Miss. Hileni       no  female  14.5000\n",
      "1306        Zakarian, Mr. Mapriededer       no    male  26.5000\n",
      "1307              Zakarian, Mr. Ortin       no    male  27.0000\n",
      "1308               Zimmerman, Mr. Leo       no    male  29.0000\n",
      "\n",
      "[1046 rows x 4 columns]\n"
     ]
    },
    {
     "data": {
      "image/png": "[encoded data removed]",
      "text/plain": [
       "<Figure size 640x480 with 2 Axes>"
      ]
     },
     "metadata": {},
     "output_type": "display_data"
    }
   ],
   "source": [
    "#pandas functions:\n",
    "dataframe2 = pd.read_csv('accounts.csv')\n",
    "print(\"dataframe: \\n\" ,dataframe2, \"\\n\")\n",
    "\n",
    "#head and tail\n",
    "print(\"head: \\n\",dataframe2.head(1), \"\\n\")\n",
    "print(\"tail: \\n\",dataframe2.tail(1), \"\\n\")\n",
    "\n",
    "dataframe2.columns = ['Id', 'Name', 'Amount']\n",
    "dataframe2.to_csv('accounts.csv', index = False)\n",
    "\n",
    "#describe, info , hist\n",
    "print(\"describe: \\n\",dataframe2.describe(), \"\\n\")\n",
    "print(\"info: \\n\",dataframe2.info(), \"\\n\")\n",
    "print(\"hist: \\n\",dataframe2.hist(), \"\\n\")\n",
    "\n",
    "#notna, dropna, count\n",
    "dataframe4 = pd.read_csv(\"titanic.csv\")\n",
    "print(\"dataframe: \\n\", dataframe4)\n",
    "print(\"notna: \\n\", dataframe4[dataframe4.age.notna()])\n",
    "print(\"dropna: \\n\", dataframe4.dropna())\n",
    "print(\"count: \\n\", dataframe4.gender.value_counts())\n",
    "print(\"notna: \\n\", dataframe4[dataframe4.age.notna()])"
   ]
  },
  {
   "cell_type": "code",
   "execution_count": 41,
   "id": "b9bd19ac",
   "metadata": {},
   "outputs": [
    {
     "name": "stdout",
     "output_type": "stream",
     "text": [
      "dataframe5: \n",
      "     0   1   2   3\n",
      "0   0   1   2   3\n",
      "1   4   5   6   7\n",
      "2   8   9  10  11\n",
      "3  12  13  14  15\n",
      "4  16  17  18  19\n",
      "5  20  21  22  23\n",
      "6  24  25  26  27\n",
      "7  28  29  30  31\n",
      "8  32  33  34  35\n",
      "9  36  37  38  39\n",
      "dataframe6: \n",
      "     0   1   2   3\n",
      "0   0   1   2   3\n",
      "1   4   5   6   7\n",
      "2   8   9  10  11\n",
      "3  12  13  14  15\n",
      "4  16  17  18  19\n",
      "5  20  21  22  23\n",
      "6  24  25  26  27\n",
      "7  28  29  30  31\n",
      "8  32  33  34  35\n",
      "9  36  37  38  39\n",
      "dataframe5 slicing: \n",
      "    0  1\n",
      "0  0  1\n",
      "1  4  5\n",
      "Add both dataframes: \n",
      "     0   1   2   3\n",
      "0   0   2   4   6\n",
      "1   8  10  12  14\n",
      "2  16  18  20  22\n",
      "3  24  26  28  30\n",
      "4  32  34  36  38\n",
      "5  40  42  44  46\n",
      "6  48  50  52  54\n",
      "7  56  58  60  62\n",
      "8  64  66  68  70\n",
      "9  72  74  76  78\n",
      "Sort dataframe6: \n",
      "     0   1   2   3\n",
      "0   0   1   2   3\n",
      "1   4   5   6   7\n",
      "2   8   9  10  11\n",
      "3  12  13  14  15\n",
      "4  16  17  18  19\n",
      "5  20  21  22  23\n",
      "6  24  25  26  27\n",
      "7  28  29  30  31\n",
      "8  32  33  34  35\n",
      "9  36  37  38  39\n",
      "rank dataframe6: \n",
      "       0     1     2     3\n",
      "0   1.0   1.0   1.0   1.0\n",
      "1   2.0   2.0   2.0   2.0\n",
      "2   3.0   3.0   3.0   3.0\n",
      "3   4.0   4.0   4.0   4.0\n",
      "4   5.0   5.0   5.0   5.0\n",
      "5   6.0   6.0   6.0   6.0\n",
      "6   7.0   7.0   7.0   7.0\n",
      "7   8.0   8.0   8.0   8.0\n",
      "8   9.0   9.0   9.0   9.0\n",
      "9  10.0  10.0  10.0  10.0\n",
      "fillna: \n",
      "                                  name survived  gender     age\n",
      "0       Allen, Miss. Elisabeth Walton      yes  female    29.0\n",
      "1      Allison, Master. Hudson Trevor      yes    male  0.9167\n",
      "2        Allison, Miss. Helen Loraine       no  female     2.0\n",
      "3     Allison, Mr. Hudson Joshua Crei       no    male    30.0\n",
      "4     Allison, Mrs. Hudson J C (Bessi       no  female    25.0\n",
      "...                               ...      ...     ...     ...\n",
      "1304             Zabour, Miss. Hileni       no  female    14.5\n",
      "1305            Zabour, Miss. Thamine       no  female   ffill\n",
      "1306        Zakarian, Mr. Mapriededer       no    male    26.5\n",
      "1307              Zakarian, Mr. Ortin       no    male    27.0\n",
      "1308               Zimmerman, Mr. Leo       no    male    29.0\n",
      "\n",
      "[1309 rows x 4 columns]\n",
      "dataframe5: \n",
      "                                  name survived  gender      age\n",
      "0       Allen, Miss. Elisabeth Walton      yes  female  29.0000\n",
      "1      Allison, Master. Hudson Trevor      yes    male   0.9167\n",
      "2        Allison, Miss. Helen Loraine       no  female   2.0000\n",
      "3     Allison, Mr. Hudson Joshua Crei       no    male  30.0000\n",
      "4     Allison, Mrs. Hudson J C (Bessi       no  female  25.0000\n",
      "...                               ...      ...     ...      ...\n",
      "1304             Zabour, Miss. Hileni       no  female  14.5000\n",
      "1305            Zabour, Miss. Thamine       no  female      NaN\n",
      "1306        Zakarian, Mr. Mapriededer       no    male  26.5000\n",
      "1307              Zakarian, Mr. Ortin       no    male  27.0000\n",
      "1308               Zimmerman, Mr. Leo       no    male  29.0000\n",
      "\n",
      "[1309 rows x 4 columns]\n",
      "dataframe5: \n",
      "                                  name survived  gender      age\n",
      "0       Allen, Miss. Elisabeth Walton      yes  female  29.0000\n",
      "1      Allison, Master. Hudson Trevor      yes    male   0.9167\n",
      "2        Allison, Miss. Helen Loraine       no  female   2.0000\n",
      "3     Allison, Mr. Hudson Joshua Crei       no    male  30.0000\n",
      "4     Allison, Mrs. Hudson J C (Bessi       no  female  25.0000\n",
      "...                               ...      ...     ...      ...\n",
      "1304             Zabour, Miss. Hileni       no  female  14.5000\n",
      "1305            Zabour, Miss. Thamine       no  female      NaN\n",
      "1306        Zakarian, Mr. Mapriededer       no    male  26.5000\n",
      "1307              Zakarian, Mr. Ortin       no    male  27.0000\n",
      "1308               Zimmerman, Mr. Leo       no    male  29.0000\n",
      "\n",
      "[1309 rows x 4 columns]\n"
     ]
    },
    {
     "data": {
      "text/html": [
       "<div>\n",
       "<style scoped>\n",
       "    .dataframe tbody tr th:only-of-type {\n",
       "        vertical-align: middle;\n",
       "    }\n",
       "\n",
       "    .dataframe tbody tr th {\n",
       "        vertical-align: top;\n",
       "    }\n",
       "\n",
       "    .dataframe thead th {\n",
       "        text-align: right;\n",
       "    }\n",
       "</style>\n",
       "<table border=\"1\" class=\"dataframe\">\n",
       "  <thead>\n",
       "    <tr style=\"text-align: right;\">\n",
       "      <th></th>\n",
       "      <th>name</th>\n",
       "      <th>survived</th>\n",
       "      <th>gender</th>\n",
       "      <th>age</th>\n",
       "      <th>status</th>\n",
       "    </tr>\n",
       "  </thead>\n",
       "  <tbody>\n",
       "    <tr>\n",
       "      <th>0</th>\n",
       "      <td>Allen, Miss. Elisabeth Walton</td>\n",
       "      <td>yes</td>\n",
       "      <td>female</td>\n",
       "      <td>29.0000</td>\n",
       "      <td>survived</td>\n",
       "    </tr>\n",
       "    <tr>\n",
       "      <th>1</th>\n",
       "      <td>Allison, Master. Hudson Trevor</td>\n",
       "      <td>yes</td>\n",
       "      <td>male</td>\n",
       "      <td>0.9167</td>\n",
       "      <td>survived</td>\n",
       "    </tr>\n",
       "    <tr>\n",
       "      <th>2</th>\n",
       "      <td>Allison, Miss. Helen Loraine</td>\n",
       "      <td>no</td>\n",
       "      <td>female</td>\n",
       "      <td>2.0000</td>\n",
       "      <td>died</td>\n",
       "    </tr>\n",
       "    <tr>\n",
       "      <th>3</th>\n",
       "      <td>Allison, Mr. Hudson Joshua Crei</td>\n",
       "      <td>no</td>\n",
       "      <td>male</td>\n",
       "      <td>30.0000</td>\n",
       "      <td>died</td>\n",
       "    </tr>\n",
       "    <tr>\n",
       "      <th>4</th>\n",
       "      <td>Allison, Mrs. Hudson J C (Bessi</td>\n",
       "      <td>no</td>\n",
       "      <td>female</td>\n",
       "      <td>25.0000</td>\n",
       "      <td>died</td>\n",
       "    </tr>\n",
       "    <tr>\n",
       "      <th>...</th>\n",
       "      <td>...</td>\n",
       "      <td>...</td>\n",
       "      <td>...</td>\n",
       "      <td>...</td>\n",
       "      <td>...</td>\n",
       "    </tr>\n",
       "    <tr>\n",
       "      <th>1304</th>\n",
       "      <td>Zabour, Miss. Hileni</td>\n",
       "      <td>no</td>\n",
       "      <td>female</td>\n",
       "      <td>14.5000</td>\n",
       "      <td>died</td>\n",
       "    </tr>\n",
       "    <tr>\n",
       "      <th>1305</th>\n",
       "      <td>Zabour, Miss. Thamine</td>\n",
       "      <td>no</td>\n",
       "      <td>female</td>\n",
       "      <td>NaN</td>\n",
       "      <td>died</td>\n",
       "    </tr>\n",
       "    <tr>\n",
       "      <th>1306</th>\n",
       "      <td>Zakarian, Mr. Mapriededer</td>\n",
       "      <td>no</td>\n",
       "      <td>male</td>\n",
       "      <td>26.5000</td>\n",
       "      <td>died</td>\n",
       "    </tr>\n",
       "    <tr>\n",
       "      <th>1307</th>\n",
       "      <td>Zakarian, Mr. Ortin</td>\n",
       "      <td>no</td>\n",
       "      <td>male</td>\n",
       "      <td>27.0000</td>\n",
       "      <td>died</td>\n",
       "    </tr>\n",
       "    <tr>\n",
       "      <th>1308</th>\n",
       "      <td>Zimmerman, Mr. Leo</td>\n",
       "      <td>no</td>\n",
       "      <td>male</td>\n",
       "      <td>29.0000</td>\n",
       "      <td>died</td>\n",
       "    </tr>\n",
       "  </tbody>\n",
       "</table>\n",
       "<p>1309 rows × 5 columns</p>\n",
       "</div>"
      ],
      "text/plain": [
       "                                 name survived  gender      age    status\n",
       "0       Allen, Miss. Elisabeth Walton      yes  female  29.0000  survived\n",
       "1      Allison, Master. Hudson Trevor      yes    male   0.9167  survived\n",
       "2        Allison, Miss. Helen Loraine       no  female   2.0000      died\n",
       "3     Allison, Mr. Hudson Joshua Crei       no    male  30.0000      died\n",
       "4     Allison, Mrs. Hudson J C (Bessi       no  female  25.0000      died\n",
       "...                               ...      ...     ...      ...       ...\n",
       "1304             Zabour, Miss. Hileni       no  female  14.5000      died\n",
       "1305            Zabour, Miss. Thamine       no  female      NaN      died\n",
       "1306        Zakarian, Mr. Mapriededer       no    male  26.5000      died\n",
       "1307              Zakarian, Mr. Ortin       no    male  27.0000      died\n",
       "1308               Zimmerman, Mr. Leo       no    male  29.0000      died\n",
       "\n",
       "[1309 rows x 5 columns]"
      ]
     },
     "execution_count": 41,
     "metadata": {},
     "output_type": "execute_result"
    }
   ],
   "source": [
    "#numpy functios\n",
    "\n",
    "#dataframe, dataframe slicing, add two dataframe, sort, rank \n",
    "dataframe5 = pd.DataFrame(np.arange(4*10).reshape(10,4))\n",
    "dataframe6 = pd.DataFrame(np.arange(4*10).reshape(10,4))\n",
    "print(\"dataframe5: \\n\", dataframe5)\n",
    "print(\"dataframe6: \\n\", dataframe6)\n",
    "print(\"dataframe5 slicing: \\n\", dataframe5.iloc[:2,:2])\n",
    "print(\"Add both dataframes: \\n\", dataframe6.add(dataframe5))\n",
    "print(\"Sort dataframe6: \\n\", dataframe6.sort_index())\n",
    "print(\"rank dataframe6: \\n\", dataframe6.rank())\n",
    "\n",
    "#fillna, duplicate, map\n",
    "print(\"fillna: \\n\", dataframe4.fillna('ffill'))\n",
    "print(\"dataframe5: \\n\", dataframe4.drop_duplicates())\n",
    "print(\"dataframe5: \\n\", dataframe4.drop_duplicates())\n",
    "\n",
    "#map\n",
    "def transform(x):\n",
    "    if x == \"yes\":\n",
    "        return \"survived\";\n",
    "    else:\n",
    "        return \"died\"\n",
    "dataframe4[\"status\"] = dataframe4.survived.map(transform)\n",
    "dataframe4"
   ]
  },
  {
   "cell_type": "code",
   "execution_count": 86,
   "id": "9ac25d0c",
   "metadata": {},
   "outputs": [
    {
     "data": {
      "image/png": "[encoded data removed]",
      "text/plain": [
       "<Figure size 640x480 with 1 Axes>"
      ]
     },
     "metadata": {},
     "output_type": "display_data"
    },
    {
     "data": {
      "image/png": "[encoded data removed]",
      "text/plain": [
       "<Figure size 640x480 with 1 Axes>"
      ]
     },
     "metadata": {},
     "output_type": "display_data"
    },
    {
     "data": {
      "image/png": "[encoded data removed]",
      "text/plain": [
       "<Figure size 640x480 with 1 Axes>"
      ]
     },
     "metadata": {},
     "output_type": "display_data"
    },
    {
     "data": {
      "image/png": "[encoded data removed]",
      "text/plain": [
       "<Figure size 640x480 with 1 Axes>"
      ]
     },
     "metadata": {},
     "output_type": "display_data"
    },
    {
     "data": {
      "image/png": "[encoded data removed]",
      "text/plain": [
       "<Figure size 640x480 with 1 Axes>"
      ]
     },
     "metadata": {},
     "output_type": "display_data"
    },
    {
     "data": {
      "image/png": "[encoded data removed]",
      "text/plain": [
       "<Figure size 640x480 with 1 Axes>"
      ]
     },
     "metadata": {},
     "output_type": "display_data"
    },
    {
     "data": {
      "image/png": "[encoded data removed]",
      "text/plain": [
       "<Figure size 640x480 with 1 Axes>"
      ]
     },
     "metadata": {},
     "output_type": "display_data"
    }
   ],
   "source": [
    "#matplot\n",
    "import matplotlib.pyplot as plt\n",
    "\n",
    "#Example\n",
    "x = np.array([1,2,3,4])\n",
    "y = np.array([3,6,3,9])\n",
    "plt.plot(x,y, 'o--r')\n",
    "plt.xlabel(\"X side\")\n",
    "plt.ylabel(\"Y side\")\n",
    "plt.grid(axis = 'x')\n",
    "plt.show()\n",
    "\n",
    "#scatter plot\n",
    "x = np.array([31,61,94,48,10,38,34])\n",
    "y = np.array([45,10,65,42,76,23,12])\n",
    "plt.scatter(x,y, color='red', s=90)\n",
    "\n",
    "x = np.array([31,34,74,23,73,97,23])\n",
    "y = np.array([42,86,14,84,34,23,15])\n",
    "plt.scatter(x,y, color='black')\n",
    "\n",
    "plt.xlabel(\"x side\")\n",
    "plt.ylabel(\"y side\")\n",
    "plt.grid(axis = 'y')\n",
    "plt.show()\n",
    "\n",
    "#bar plot & barhplot\n",
    "x = np.array([31,61,94,48,10,38,34])\n",
    "y = np.array([45,10,65,42,76,23,12])\n",
    "plt.bar(x,y, width=5)\n",
    "plt.barh(x,y, height=5)\n",
    "plt.xlabel(\"x side\")\n",
    "plt.ylabel(\"y side\")\n",
    "plt.show()\n",
    "\n",
    "#histogram\n",
    "x = np.array(np.random.randint(50,100,40))\n",
    "plt.hist(x)\n",
    "plt.xlabel(\"x side\")\n",
    "plt.ylabel(\"y side\")\n",
    "plt.show()\n",
    "\n",
    "#pie chart\n",
    "x = np.array([20,40,10,30])\n",
    "labels = {\"over 20\",\"over 30\",\"over 35\", \"over 40\"}\n",
    "explodes = [0.2,0,0,0]\n",
    "plt.pie(x, labels = labels, explode = explodes)\n",
    "plt.legend()\n",
    "plt.show()\n",
    "\n",
    "#boxplot\n",
    "marks_ = [51, 42, 33, 67, 98, 102, 72, 65, 109]\n",
    "plt.boxplot(marks_)\n",
    "plt.show()\n",
    "\n",
    "#Stackplot\n",
    "days = [1, 2, 3, 4, 5, 6, 7]\n",
    "Studying = [2, 4, 5, 3, 4, 4, 6]\n",
    "Playing = [8, 5, 7, 8, 5, 5, 6]\n",
    "Sleeping = [8, 7, 8, 4, 6, 8, 6]\n",
    "plt.stackplot(days, Sleeping, Playing, Studying, colors =['lightgreen', 'lightcoral', 'lightsalmon'])\n",
    "plt.show()"
   ]
  },
  {
   "cell_type": "code",
   "execution_count": 57,
   "id": "c6c19dfb",
   "metadata": {},
   "outputs": [],
   "source": [
    "# Set global font properties\n",
    "plt.rcParams['font.size'] = 10\n",
    "plt.rcParams['font.family'] = 'Times New Roman'\n",
    "plt.rcParams['font.style'] = 'normal'"
   ]
  },
  {
   "cell_type": "code",
   "execution_count": 76,
   "id": "81f97dcd",
   "metadata": {},
   "outputs": [
    {
     "data": {
      "image/png": "[encoded data removed]",
      "text/plain": [
       "<Figure size 640x480 with 1 Axes>"
      ]
     },
     "metadata": {},
     "output_type": "display_data"
    },
    {
     "data": {
      "image/png": "[encoded data removed]",
      "text/plain": [
       "<Figure size 640x480 with 1 Axes>"
      ]
     },
     "metadata": {},
     "output_type": "display_data"
    },
    {
     "data": {
      "text/plain": [
       "<matplotlib.legend.Legend at 0x164c5241150>"
      ]
     },
     "execution_count": 76,
     "metadata": {},
     "output_type": "execute_result"
    },
    {
     "data": {
      "image/png": "[encoded data removed]",
      "text/plain": [
       "<Figure size 640x480 with 1 Axes>"
      ]
     },
     "metadata": {},
     "output_type": "display_data"
    }
   ],
   "source": [
    "#more matplotlib.pyplot examples\n",
    "x = np.linspace(0,10,100)\n",
    "y = np.sin(x)\n",
    "plt.title(\"Line Plot\", fontsize=18, fontfamily=\"Times new Roman\")\n",
    "plt.plot(x,y, color='red', ls=':' , label='Dashed line')\n",
    "plt.legend(loc = 'upper left')\n",
    "\n",
    "#peak point\n",
    "x = np.linspace(-np.pi,np.pi,20)\n",
    "y = np.cos(x)\n",
    "peak_y = y[np.argmax(y)]\n",
    "peak_x = x[np.argmax(y)]\n",
    "fig, ax = plt.subplots()\n",
    "ax.plot(x,y, label=\"Cosine Wave\", linestyle=\"--\", marker = \"o\", \n",
    "        markerfacecolor=\"black\", color=\"blue\")\n",
    "ax.set_title(\"Cosine Wave\", fontsize=16, fontstyle='italic')\n",
    "#annotating the peak points in the plot\n",
    "text = f'Peak: ({peak_x:.2f}, {peak_y:.2f})'\n",
    "ax.annotate(text, xy=(peak_x, peak_y), xytext=(peak_x - 2, peak_y - 0.01),\n",
    "            arrowprops=dict(arrowstyle='->', color='red'),\n",
    "            fontsize=8, color='black')\n",
    "# Set the axis labels with custom font size and style\n",
    "ax.set_xlabel(\"x-axis\", fontsize=12, fontstyle='normal')\n",
    "ax.set_ylabel(\"y-axis\", fontsize=12, fontstyle='normal')\n",
    "ax.legend()\n",
    "plt.show()\n",
    "\n",
    "#cumsum\n",
    "fig = plt.figure()#figsize=(10,10))\n",
    "ax = fig.add_subplot()\n",
    "data = np.random.standard_normal(500).cumsum()\n",
    "data1 = np.random.standard_normal(500).cumsum()\n",
    "ax.plot(data, color=\"orange\", linewidth=0.6, \n",
    "        linestyle=\"dashed\", label=\"Line Plot\")\n",
    "ticks = ax.set_xticks([10, 100, 200, 300, 400, 500])\n",
    "labels = ax.set_xticklabels([\"zero\",\"one\", \"two\", \"three\", \"four\", \"five\"],\n",
    "                            rotation=30, fontsize=10)\n",
    "ax.set_xlabel(\"Stages\")\n",
    "ax.set_ylabel(\"Values\")\n",
    "ax.set_title(\"Random Matplot Line Chart\")\n",
    "#ax.text(15,15, \"Hello Plot\", family=\"monospace\")\n",
    "ax.legend()"
   ]
  },
  {
   "cell_type": "code",
   "execution_count": 83,
   "id": "cc896ae7",
   "metadata": {},
   "outputs": [
    {
     "data": {
      "text/plain": [
       "<matplotlib.collections.PathCollection at 0x164c6b1f350>"
      ]
     },
     "execution_count": 83,
     "metadata": {},
     "output_type": "execute_result"
    },
    {
     "data": {
      "image/png": "[encoded data removed]",
      "text/plain": [
       "<Figure size 640x480 with 3 Axes>"
      ]
     },
     "metadata": {},
     "output_type": "display_data"
    }
   ],
   "source": [
    "#more examples:\n",
    "fig = plt.figure()\n",
    "ax1 = fig.add_subplot(2,2,1)\n",
    "ax2 = fig.add_subplot(2,2,2)\n",
    "ax3 = fig.add_subplot(2,2,3)\n",
    "\n",
    "ax2.plot(np.random.standard_normal(50).cumsum(), linestyle='dashed')\n",
    "ax1.hist(np.random.standard_normal(100), bins=20, color=\"orange\", alpha=0.7)\n",
    "ax3.scatter(np.arange(20), np.arange(20) + 2 * np.random.standard_normal(20))"
   ]
  },
  {
   "cell_type": "code",
   "execution_count": 84,
   "id": "0ce9438c",
   "metadata": {},
   "outputs": [
    {
     "data": {
      "text/plain": [
       "{'whiskers': [<matplotlib.lines.Line2D at 0x164c7ba0250>,\n",
       "  <matplotlib.lines.Line2D at 0x164c7ba0c10>],\n",
       " 'caps': [<matplotlib.lines.Line2D at 0x164c7ba1510>,\n",
       "  <matplotlib.lines.Line2D at 0x164c7ba01d0>],\n",
       " 'boxes': [<matplotlib.lines.Line2D at 0x164c7b97a50>],\n",
       " 'medians': [<matplotlib.lines.Line2D at 0x164c7ba2390>],\n",
       " 'fliers': [<matplotlib.lines.Line2D at 0x164c7ba0b50>],\n",
       " 'means': []}"
      ]
     },
     "execution_count": 84,
     "metadata": {},
     "output_type": "execute_result"
    },
    {
     "data": {
      "image/png": "[encoded data removed]",
      "text/plain": [
       "<Figure size 640x480 with 1 Axes>"
      ]
     },
     "metadata": {},
     "output_type": "display_data"
    }
   ],
   "source": []
  },
  {
   "cell_type": "code",
   "execution_count": 92,
   "id": "f7b201d5",
   "metadata": {},
   "outputs": [
    {
     "data": {
      "text/html": [
       "<svg  width=\"440\" height=\"55\"><rect x=\"0\" y=\"0\" width=\"55\" height=\"55\" style=\"fill:#f77189;stroke-width:2;stroke:rgb(255,255,255)\"/><rect x=\"55\" y=\"0\" width=\"55\" height=\"55\" style=\"fill:#ce9032;stroke-width:2;stroke:rgb(255,255,255)\"/><rect x=\"110\" y=\"0\" width=\"55\" height=\"55\" style=\"fill:#97a431;stroke-width:2;stroke:rgb(255,255,255)\"/><rect x=\"165\" y=\"0\" width=\"55\" height=\"55\" style=\"fill:#32b166;stroke-width:2;stroke:rgb(255,255,255)\"/><rect x=\"220\" y=\"0\" width=\"55\" height=\"55\" style=\"fill:#36ada4;stroke-width:2;stroke:rgb(255,255,255)\"/><rect x=\"275\" y=\"0\" width=\"55\" height=\"55\" style=\"fill:#39a7d0;stroke-width:2;stroke:rgb(255,255,255)\"/><rect x=\"330\" y=\"0\" width=\"55\" height=\"55\" style=\"fill:#a48cf4;stroke-width:2;stroke:rgb(255,255,255)\"/><rect x=\"385\" y=\"0\" width=\"55\" height=\"55\" style=\"fill:#f561dd;stroke-width:2;stroke:rgb(255,255,255)\"/></svg>"
      ],
      "text/plain": [
       "[(0.9677975592919913, 0.44127456009157356, 0.5358103155058701),\n",
       " (0.8087954113106306, 0.5634700050056693, 0.19502642696727285),\n",
       " (0.5920891529639701, 0.6418467016378244, 0.1935069134991043),\n",
       " (0.19783576093349015, 0.6955516966063037, 0.3995301037444499),\n",
       " (0.21044753832183283, 0.6773105080456748, 0.6433941168468681),\n",
       " (0.22335772267769388, 0.6565792317435265, 0.8171355503265633),\n",
       " (0.6423044349219739, 0.5497680051256467, 0.9582651433656727),\n",
       " (0.9603888539940703, 0.3814317878772117, 0.8683117650835491)]"
      ]
     },
     "execution_count": 92,
     "metadata": {},
     "output_type": "execute_result"
    }
   ],
   "source": [
    "#searborn\n",
    "import seaborn as sns\n",
    "sns.set_theme(style=\"darkgrid\") #white, dark, whitegrid, darkgrid\n",
    "sns.color_palette(\"husl\", 8)"
   ]
  },
  {
   "cell_type": "code",
   "execution_count": 97,
   "id": "5ffa954b",
   "metadata": {},
   "outputs": [
    {
     "data": {
      "image/png": "[encoded data removed]",
      "text/plain": [
       "<Figure size 591.5x500 with 1 Axes>"
      ]
     },
     "metadata": {},
     "output_type": "display_data"
    },
    {
     "name": "stdout",
     "output_type": "stream",
     "text": [
      "Index(['total_bill', 'tip', 'sex', 'smoker', 'day', 'time', 'size'], dtype='object')\n"
     ]
    },
    {
     "data": {
      "text/plain": [
       "<seaborn.axisgrid.FacetGrid at 0x164cb197950>"
      ]
     },
     "execution_count": 97,
     "metadata": {},
     "output_type": "execute_result"
    },
    {
     "data": {
      "image/png": "[encoded data removed]",
      "text/plain": [
       "<Figure size 580x500 with 1 Axes>"
      ]
     },
     "metadata": {},
     "output_type": "display_data"
    },
    {
     "data": {
      "image/png": "[encoded data removed]",
      "text/plain": [
       "<Figure size 563.5x500 with 1 Axes>"
      ]
     },
     "metadata": {},
     "output_type": "display_data"
    }
   ],
   "source": [
    "#scatter plot modified\n",
    "x = np.random.rand(20)\n",
    "y = np.random.rand(20)\n",
    "z = np.random.choice([\"Head\", \"Tail\"], 20)\n",
    "sns.relplot(x=x, y=y, hue=z)\n",
    "plt.title(\"Random scatter plot\")\n",
    "plt.legend(loc=\"lower right\")\n",
    "plt.show()\n",
    "\n",
    "#another one\n",
    "tips = sns.load_dataset(\"tips\")\n",
    "print (tips.columns)\n",
    "sns.relplot(data=tips, x=\"total_bill\", y=\"tip\", hue=\"smoker\", style=\"smoker\", palette=\"husl\")\n",
    "\n",
    "#relplot or line plot\n",
    "x = np.linspace(0,10,100)\n",
    "y = np.sin(x)\n",
    "sns.relplot(x = x, y=y, kind=\"line\", hue=2, marker=\"o\", palette=\"husl\")\n",
    "# sns.setlegend(title=\"\")"
   ]
  },
  {
   "cell_type": "code",
   "execution_count": 100,
   "id": "57447036",
   "metadata": {},
   "outputs": [
    {
     "name": "stdout",
     "output_type": "stream",
     "text": [
      "data columns\n",
      "\n",
      "\n",
      "Index(['align', 'choice', 'time', 'coherence', 'firing_rate'], dtype='object')\n",
      "data head\n",
      "\n",
      "\n",
      "  align choice  time  coherence  firing_rate\n",
      "0  dots     T1   -80        0.0    33.189967\n",
      "1  dots     T1   -80        3.2    31.691726\n",
      "2  dots     T1   -80        6.4    34.279840\n",
      "3  dots     T1   -80       12.8    32.631874\n",
      "4  dots     T1   -80       25.6    35.060487\n",
      "data tail\n",
      "\n",
      "\n",
      "    align choice  time  coherence  firing_rate\n",
      "843  sacc     T2   300        3.2    33.281734\n",
      "844  sacc     T2   300        6.4    27.583979\n",
      "845  sacc     T2   300       12.8    28.511530\n",
      "846  sacc     T2   300       25.6    27.009804\n",
      "847  sacc     T2   300       51.2    30.959302\n"
     ]
    },
    {
     "name": "stderr",
     "output_type": "stream",
     "text": [
      "C:\\Users\\mehdi\\AppData\\Local\\Temp\\ipykernel_28232\\3632711227.py:16: UserWarning: The palette list has more values (10) than needed (6), which may not be intended.\n",
      "  sns.relplot(\n"
     ]
    },
    {
     "data": {
      "text/plain": [
       "<seaborn.axisgrid.FacetGrid at 0x164cc63b350>"
      ]
     },
     "execution_count": 100,
     "metadata": {},
     "output_type": "execute_result"
    },
    {
     "data": {
      "image/png": "[encoded data removed]",
      "text/plain": [
       "<Figure size 702.069x400 with 2 Axes>"
      ]
     },
     "metadata": {},
     "output_type": "display_data"
    }
   ],
   "source": [
    "#other important question\n",
    "sns.set_theme(style=\"ticks\")\n",
    "dots = sns.load_dataset(\"dots\")\n",
    "print (\"data columns\\n\\n\")\n",
    "print (dots.columns)\n",
    "\n",
    "print (\"data head\\n\\n\")\n",
    "print (dots.head(5))\n",
    "\n",
    "print (\"data tail\\n\\n\")\n",
    "print (dots.tail(5))\n",
    "\n",
    "palette = sns.color_palette(\"bright\")\n",
    "\n",
    "# Plot the lines on two facets\n",
    "sns.relplot(\n",
    "    data=dots,\n",
    "    x=\"time\", y=\"firing_rate\",\n",
    "    hue=\"coherence\", size=\"align\", col=\"choice\",\n",
    "    kind=\"line\", size_order=[\"dots\", \"sacc\"], palette=palette,\n",
    "    height=4, aspect=.75, facet_kws=dict(sharex=False),\n",
    ")"
   ]
  },
  {
   "cell_type": "code",
   "execution_count": 101,
   "id": "aa52515f",
   "metadata": {},
   "outputs": [
    {
     "data": {
      "image/png": "[encoded data removed]",
      "text/plain": [
       "<Figure size 640x480 with 1 Axes>"
      ]
     },
     "metadata": {},
     "output_type": "display_data"
    }
   ],
   "source": [
    "\n",
    "#boxplot\n",
    "sns.set_theme(style=\"ticks\", palette=\"pastel\")\n",
    "tips = sns.load_dataset(\"tips\")\n",
    "\n",
    "sns.boxplot(x=\"day\", y=\"total_bill\",\n",
    "            hue=\"smoker\", palette=[\"r\", \"g\"],\n",
    "            data=tips)\n",
    "sns.despine(offset=10, trim=True)"
   ]
  },
  {
   "cell_type": "code",
   "execution_count": null,
   "id": "ccc2f5c5",
   "metadata": {},
   "outputs": [],
   "source": [
    "import pandas as pd\n",
    "import matplotlib.pyplot as plt\n",
    "from sklearn.cluster import KMeans\n",
    "from sklearn.preprocessing import StandardScaler\n",
    "import seaborn as sns\n",
    "\n",
    "data = pd.read_csv(r'./datasets/_customer.csv')\n",
    "\n",
    "data\n",
    "\n",
    "\n",
    "#explore and visualize the data\n",
    "print(data.head())\n",
    "sns.scatterplot(x='Income', y='Spending_Score', data=data)\n",
    "plt.title('Customer Segmentation Data')\n",
    "plt.xlabel('Annual Income (in thousands of dollars)')\n",
    "plt.ylabel('Average Spending Score')\n",
    "plt.show()"
   ]
  },
  {
   "cell_type": "code",
   "execution_count": 1,
   "id": "267cb557",
   "metadata": {},
   "outputs": [
    {
     "name": "stderr",
     "output_type": "stream",
     "text": [
      "Cloning into 'DS'...\n"
     ]
    }
   ],
   "source": [
    "!git clone https://github.com/Muntazer-Mehdi/DS.git"
   ]
  },
  {
   "cell_type": "code",
   "execution_count": null,
   "id": "f92669f9",
   "metadata": {},
   "outputs": [],
   "source": []
  }
 ],
 "metadata": {
  "kernelspec": {
   "display_name": "Python 3 (ipykernel)",
   "language": "python",
   "name": "python3"
  },
  "language_info": {
   "codemirror_mode": {
    "name": "ipython",
    "version": 3
   },
   "file_extension": ".py",
   "mimetype": "text/x-python",
   "name": "python",
   "nbconvert_exporter": "python",
   "pygments_lexer": "ipython3",
   "version": "3.11.4"
  }
 },
 "nbformat": 4,
 "nbformat_minor": 5
}
